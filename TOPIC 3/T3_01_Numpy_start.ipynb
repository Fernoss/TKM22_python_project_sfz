{
 "cells": [
  {
   "cell_type": "code",
   "execution_count": 1,
   "id": "d8e72fd1-b173-4d82-8343-c14be9c0efcd",
   "metadata": {},
   "outputs": [],
   "source": [
    "# This file is to be accompanied with the corresponding Lecture Video. See Moodle/Learn for more info"
   ]
  },
  {
   "cell_type": "markdown",
   "id": "1ca7e98e-52e4-495b-a44d-51ba516b2431",
   "metadata": {},
   "source": [
    "Why Numpy:\n",
    "\n",
    "For example:\n",
    "* Much faster than other structures for many purpose\n",
    "* Vectorized operations\n",
    "* Often possible to avoid the need for for-loops\n",
    "* Effective descriptive statistics and aggregationg/summarizing data\n",
    "* Memory efficient\n",
    "* Boolean indexing (we see this with Pandas more)\n",
    "* Much more reasons..."
   ]
  },
  {
   "cell_type": "markdown",
   "id": "01ea9629-7b99-4b13-a725-2279c72b1d11",
   "metadata": {},
   "source": [
    "---"
   ]
  },
  {
   "cell_type": "markdown",
   "id": "5dc59609-a315-40a1-a211-b56b257d8cfc",
   "metadata": {},
   "source": [
    "### Initializing ndarray with list"
   ]
  },
  {
   "cell_type": "code",
   "execution_count": 2,
   "id": "82923326-a421-451e-92d2-ff923d3de06e",
   "metadata": {},
   "outputs": [],
   "source": [
    "import numpy as np"
   ]
  },
  {
   "cell_type": "code",
   "execution_count": 3,
   "id": "51fbbe3d-3874-41e2-8958-c764e6b79702",
   "metadata": {},
   "outputs": [
    {
     "data": {
      "text/plain": [
       "[1, 'Tommi', 2, 5]"
      ]
     },
     "execution_count": 3,
     "metadata": {},
     "output_type": "execute_result"
    }
   ],
   "source": [
    "mylist=[1, 'Tommi', 2,5]\n",
    "mylist"
   ]
  },
  {
   "cell_type": "code",
   "execution_count": 4,
   "id": "33ec0bb5-329b-4c8b-97e1-3b612852f7d6",
   "metadata": {},
   "outputs": [
    {
     "data": {
      "text/plain": [
       "list"
      ]
     },
     "execution_count": 4,
     "metadata": {},
     "output_type": "execute_result"
    }
   ],
   "source": [
    "type(mylist)"
   ]
  },
  {
   "cell_type": "code",
   "execution_count": 5,
   "id": "b4ac246f-f4eb-40c6-a147-d6ca16377f7b",
   "metadata": {},
   "outputs": [
    {
     "data": {
      "text/plain": [
       "array([1, 5, 4, 2])"
      ]
     },
     "execution_count": 5,
     "metadata": {},
     "output_type": "execute_result"
    }
   ],
   "source": [
    "# With Numpy usually we have numbers as elements for the ndarray\n",
    "myarr = np.array([1, 5, 4, 2])\n",
    "myarr"
   ]
  },
  {
   "cell_type": "code",
   "execution_count": 6,
   "id": "bddf0ac9-ed58-4ab3-890f-567ae8ab22bf",
   "metadata": {},
   "outputs": [
    {
     "data": {
      "text/plain": [
       "numpy.ndarray"
      ]
     },
     "execution_count": 6,
     "metadata": {},
     "output_type": "execute_result"
    }
   ],
   "source": [
    "type(myarr)"
   ]
  },
  {
   "cell_type": "markdown",
   "id": "ac639b69-bc46-49ce-a411-b756afd0208e",
   "metadata": {},
   "source": [
    "## np.array() vs numpy.ndarray\n"
   ]
  },
  {
   "cell_type": "markdown",
   "id": "eb8f18d7-87f7-43c8-8609-f5573ddbde2b",
   "metadata": {},
   "source": [
    "If you take a careful look above, you will notice that we used function array() to create on numpy array of type ndarray\n",
    "\n",
    "so the fuction np.array([1, 5, 4, 2]) return on object of type ndarray\n"
   ]
  },
  {
   "cell_type": "markdown",
   "id": "be4bc964-2fb8-4481-9354-5c58f3095bf3",
   "metadata": {},
   "source": [
    "---"
   ]
  },
  {
   "cell_type": "code",
   "execution_count": 7,
   "id": "a97db48a-4cae-4911-9219-1ecd6282a536",
   "metadata": {},
   "outputs": [
    {
     "data": {
      "text/plain": [
       "array([ 1,  6, 10, 12])"
      ]
     },
     "execution_count": 7,
     "metadata": {},
     "output_type": "execute_result"
    }
   ],
   "source": [
    "# ufunc for numpy array\n",
    "myarr.cumsum()"
   ]
  },
  {
   "cell_type": "markdown",
   "id": "394ce769-eee4-4093-b707-e730a04ad03c",
   "metadata": {},
   "source": [
    "---"
   ]
  },
  {
   "cell_type": "markdown",
   "id": "5e3a6402-4afc-4ac8-b029-78d5c8b9924c",
   "metadata": {},
   "source": [
    "## Commonly used ways to initialize numpy arrays"
   ]
  },
  {
   "cell_type": "markdown",
   "id": "13f0e7e1-dff7-4de5-8967-3d4803a8e9a4",
   "metadata": {},
   "source": [
    "* array()    # we have already seen that\n",
    "* asarray()\n",
    "* arange()   # We have already seen that\n",
    "* ones()\n",
    "* ones_like()\n",
    "* zeros()\n",
    "* zeros_like()\n",
    "* empty()\n",
    "* empty_like()\n",
    "* full()\n",
    "* full_like()\n",
    "* eye()\n",
    "* identity()\n"
   ]
  },
  {
   "cell_type": "markdown",
   "id": "54bb1289-5c5c-41a7-bf1d-e75397e51195",
   "metadata": {},
   "source": [
    "### np.asarray(), Case the input for asarray() method is not of ndarray type"
   ]
  },
  {
   "cell_type": "code",
   "execution_count": 8,
   "id": "ac60abc0-7221-4119-8dd2-615a4833f1fc",
   "metadata": {},
   "outputs": [
    {
     "data": {
      "text/plain": [
       "[1, 2]"
      ]
     },
     "execution_count": 8,
     "metadata": {},
     "output_type": "execute_result"
    }
   ],
   "source": [
    "my_list = [1, 2]\n",
    "my_list"
   ]
  },
  {
   "cell_type": "code",
   "execution_count": 9,
   "id": "bc332d93-e556-4b95-ad82-8667ec71d087",
   "metadata": {},
   "outputs": [
    {
     "data": {
      "text/plain": [
       "array([1, 2])"
      ]
     },
     "execution_count": 9,
     "metadata": {},
     "output_type": "execute_result"
    }
   ],
   "source": [
    "my_list_asarray = np.asarray(my_list)\n",
    "my_list_asarray"
   ]
  },
  {
   "cell_type": "code",
   "execution_count": 10,
   "id": "9d88ffb6-50a2-4e64-819f-80e78ae4cfd8",
   "metadata": {},
   "outputs": [
    {
     "data": {
      "text/plain": [
       "numpy.ndarray"
      ]
     },
     "execution_count": 10,
     "metadata": {},
     "output_type": "execute_result"
    }
   ],
   "source": [
    "type(my_list_asarray)"
   ]
  },
  {
   "cell_type": "markdown",
   "id": "dbe2e9d0-1ac2-44d3-9217-6e3b96de724b",
   "metadata": {},
   "source": [
    "If you look at the my_list and my_list_asarray in the cells below "
   ]
  },
  {
   "cell_type": "code",
   "execution_count": 11,
   "id": "3b2770df-b1c1-4f7f-944f-e07e6ac8b377",
   "metadata": {},
   "outputs": [
    {
     "data": {
      "text/plain": [
       "[1, 2, 1, 2]"
      ]
     },
     "execution_count": 11,
     "metadata": {},
     "output_type": "execute_result"
    }
   ],
   "source": [
    "my_list*2"
   ]
  },
  {
   "cell_type": "code",
   "execution_count": 12,
   "id": "958a969a-ebff-403b-ad49-a2e4d3c01edf",
   "metadata": {},
   "outputs": [
    {
     "data": {
      "text/plain": [
       "array([2, 4])"
      ]
     },
     "execution_count": 12,
     "metadata": {},
     "output_type": "execute_result"
    }
   ],
   "source": [
    "my_list_asarray*2"
   ]
  },
  {
   "cell_type": "markdown",
   "id": "0919a956-cc32-451d-823e-ce6cbe9cd4a3",
   "metadata": {},
   "source": [
    "### np.asarray(), Case the input for asarray() method IS of ndarray type"
   ]
  },
  {
   "cell_type": "code",
   "execution_count": 13,
   "id": "d3cad231-3115-4f04-9b5d-2bc8f818c512",
   "metadata": {},
   "outputs": [],
   "source": [
    "my_ndarray = np.array([1, 3, 2, 5])\n",
    "my_ndarray_asarray = np.asarray(my_ndarray)\n",
    "\n",
    "\n"
   ]
  },
  {
   "cell_type": "code",
   "execution_count": 14,
   "id": "d2addf88-a6a8-4069-b3b8-a16e3fef3adb",
   "metadata": {},
   "outputs": [
    {
     "data": {
      "text/plain": [
       "True"
      ]
     },
     "execution_count": 14,
     "metadata": {},
     "output_type": "execute_result"
    }
   ],
   "source": [
    "#Checking whether those two nd_arrays are actually of the same type!!\n",
    "my_ndarray is my_ndarray_asarray"
   ]
  },
  {
   "cell_type": "code",
   "execution_count": 15,
   "id": "c595873b-710c-4d4a-baa6-1c64ad665333",
   "metadata": {},
   "outputs": [],
   "source": [
    "my_ndarray_asarray[2] = 100"
   ]
  },
  {
   "cell_type": "code",
   "execution_count": 16,
   "id": "6c9d2801-92cd-45b8-8302-e46adf7e0db1",
   "metadata": {},
   "outputs": [
    {
     "data": {
      "text/plain": [
       "array([  1,   3, 100,   5])"
      ]
     },
     "execution_count": 16,
     "metadata": {},
     "output_type": "execute_result"
    }
   ],
   "source": [
    "my_ndarray"
   ]
  },
  {
   "cell_type": "markdown",
   "id": "5dcf0367-0434-4f79-abca-3e8eb5b7e089",
   "metadata": {},
   "source": [
    "### np.ones()"
   ]
  },
  {
   "cell_type": "code",
   "execution_count": 17,
   "id": "aa2fa819-6a0e-4831-b315-3ed223c85544",
   "metadata": {},
   "outputs": [
    {
     "data": {
      "text/plain": [
       "array([[1., 1., 1.],\n",
       "       [1., 1., 1.]])"
      ]
     },
     "execution_count": 17,
     "metadata": {},
     "output_type": "execute_result"
    }
   ],
   "source": [
    "my_ones = np.ones([2,3])\n",
    "my_ones"
   ]
  },
  {
   "cell_type": "markdown",
   "id": "0de8461a-ed88-4b3e-ba2b-a87d2106bc0a",
   "metadata": {},
   "source": [
    "### np.zeros() and np.zeros_like()"
   ]
  },
  {
   "cell_type": "code",
   "execution_count": 18,
   "id": "fdf9261f-fe2c-4b14-96ea-e6ad834e39e2",
   "metadata": {},
   "outputs": [
    {
     "data": {
      "text/plain": [
       "array([[0., 0., 0., 0.],\n",
       "       [0., 0., 0., 0.],\n",
       "       [0., 0., 0., 0.]])"
      ]
     },
     "execution_count": 18,
     "metadata": {},
     "output_type": "execute_result"
    }
   ],
   "source": [
    "my_zeros = np.zeros((3,4))\n",
    "my_zeros"
   ]
  },
  {
   "cell_type": "code",
   "execution_count": 19,
   "id": "d6234d77-cef6-41f2-af21-8250a8780f29",
   "metadata": {},
   "outputs": [
    {
     "data": {
      "text/plain": [
       "array([[0., 0., 0.],\n",
       "       [0., 0., 0.]])"
      ]
     },
     "execution_count": 19,
     "metadata": {},
     "output_type": "execute_result"
    }
   ],
   "source": [
    "my_zeros_like = np.zeros_like(my_ones)\n",
    "my_zeros_like"
   ]
  },
  {
   "cell_type": "markdown",
   "id": "6dad1ddb-d6ee-413e-abed-34413004067b",
   "metadata": {},
   "source": [
    "### np.eye()"
   ]
  },
  {
   "cell_type": "code",
   "execution_count": 20,
   "id": "b7573978-eb9a-4702-836b-60049b7ae884",
   "metadata": {},
   "outputs": [
    {
     "data": {
      "text/plain": [
       "array([[1., 0., 0., 0., 0.],\n",
       "       [0., 1., 0., 0., 0.],\n",
       "       [0., 0., 1., 0., 0.],\n",
       "       [0., 0., 0., 1., 0.],\n",
       "       [0., 0., 0., 0., 1.]])"
      ]
     },
     "execution_count": 20,
     "metadata": {},
     "output_type": "execute_result"
    }
   ],
   "source": [
    "my_eye_array = np.eye(5)\n",
    "my_eye_array"
   ]
  },
  {
   "cell_type": "code",
   "execution_count": 21,
   "id": "cd7d78dd-4271-4bce-99a1-28be6f79e723",
   "metadata": {},
   "outputs": [
    {
     "data": {
      "text/plain": [
       "array([[1., 0., 0., 0., 0.],\n",
       "       [0., 1., 0., 0., 0.],\n",
       "       [0., 0., 1., 0., 0.],\n",
       "       [0., 0., 0., 1., 0.],\n",
       "       [0., 0., 0., 0., 1.]])"
      ]
     },
     "execution_count": 21,
     "metadata": {},
     "output_type": "execute_result"
    }
   ],
   "source": [
    "my_identity_array = np.identity(5)\n",
    "my_identity_array"
   ]
  },
  {
   "cell_type": "code",
   "execution_count": 22,
   "id": "c15f05d6-b587-4917-abc2-b11759ada58d",
   "metadata": {},
   "outputs": [
    {
     "data": {
      "text/plain": [
       "array([[0., 0., 1., 0., 0.],\n",
       "       [0., 0., 0., 1., 0.],\n",
       "       [0., 0., 0., 0., 1.],\n",
       "       [0., 0., 0., 0., 0.],\n",
       "       [0., 0., 0., 0., 0.]])"
      ]
     },
     "execution_count": 22,
     "metadata": {},
     "output_type": "execute_result"
    }
   ],
   "source": [
    "my_eye_array = np.eye(5, k=2)\n",
    "my_eye_array"
   ]
  },
  {
   "cell_type": "code",
   "execution_count": 23,
   "id": "f83bcb88",
   "metadata": {},
   "outputs": [
    {
     "data": {
      "text/plain": [
       "array([[1., 0., 0.],\n",
       "       [0., 1., 0.],\n",
       "       [0., 0., 1.]])"
      ]
     },
     "execution_count": 23,
     "metadata": {},
     "output_type": "execute_result"
    }
   ],
   "source": [
    "# Slicing is frequently utilized with numpy arrays\n",
    "my_eye_array[ :3, 2:]"
   ]
  },
  {
   "cell_type": "code",
   "execution_count": null,
   "id": "8fd5c437",
   "metadata": {},
   "outputs": [],
   "source": []
  },
  {
   "cell_type": "code",
   "execution_count": null,
   "id": "57e75066",
   "metadata": {},
   "outputs": [],
   "source": []
  }
 ],
 "metadata": {
  "kernelspec": {
   "display_name": "Python 3 (ipykernel)",
   "language": "python",
   "name": "python3"
  },
  "language_info": {
   "codemirror_mode": {
    "name": "ipython",
    "version": 3
   },
   "file_extension": ".py",
   "mimetype": "text/x-python",
   "name": "python",
   "nbconvert_exporter": "python",
   "pygments_lexer": "ipython3",
   "version": "3.11.4"
  }
 },
 "nbformat": 4,
 "nbformat_minor": 5
}
