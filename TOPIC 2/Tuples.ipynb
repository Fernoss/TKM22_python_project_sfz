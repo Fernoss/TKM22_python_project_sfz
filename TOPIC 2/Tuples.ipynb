{
 "cells": [
  {
   "cell_type": "code",
   "execution_count": 1,
   "metadata": {},
   "outputs": [
    {
     "name": "stdout",
     "output_type": "stream",
     "text": [
      "2 1\n",
      "4 3\n",
      "6 5\n",
      "8 7\n",
      "8 9\n",
      "8 11\n",
      "8 13\n",
      "8 15\n"
     ]
    }
   ],
   "source": [
    "list1 = [2,4,6,8]\n",
    "list2 = [1,3,5,7,9,11,13,15]\n",
    "\n",
    "for n in range(max(len(list1),len(list2))):\n",
    "    a = 0\n",
    "    b = 0\n",
    "\n",
    "    if(n<len(list1)):\n",
    "       a = list1[n]\n",
    "    else:\n",
    "        a = list1[len(list1)-1]\n",
    "    \n",
    "    if(n<len(list2)):\n",
    "       b = list2[n]\n",
    "    else:\n",
    "        b = list2[len(list2)-1]\n",
    "\n",
    "    print(a, b)\n",
    "\n"
   ]
  },
  {
   "cell_type": "code",
   "execution_count": 2,
   "metadata": {},
   "outputs": [
    {
     "name": "stdout",
     "output_type": "stream",
     "text": [
      "[65, 76, 83, 98]\n"
     ]
    }
   ],
   "source": [
    "grades = [76, 65, 98]\n",
    "\n",
    "grades.append(83)\n",
    "grades.sort()\n",
    "print(grades)\n"
   ]
  },
  {
   "cell_type": "code",
   "execution_count": 3,
   "metadata": {},
   "outputs": [
    {
     "name": "stdout",
     "output_type": "stream",
     "text": [
      "[]\n",
      "{}\n",
      "()\n"
     ]
    }
   ],
   "source": [
    "my_list = list()\n",
    "my_dictionary = dict()\n",
    "my_tuple = tuple()\n",
    "print(my_list)\n",
    "print(my_dictionary)\n",
    "print(my_tuple)\n"
   ]
  },
  {
   "cell_type": "code",
   "execution_count": 4,
   "metadata": {},
   "outputs": [
    {
     "name": "stdout",
     "output_type": "stream",
     "text": [
      "(1, 3, 4, 5, 6)\n",
      "(3, 4, 5)\n"
     ]
    },
    {
     "ename": "TypeError",
     "evalue": "'tuple' object does not support item assignment",
     "output_type": "error",
     "traceback": [
      "\u001b[1;31m---------------------------------------------------------------------------\u001b[0m",
      "\u001b[1;31mTypeError\u001b[0m                                 Traceback (most recent call last)",
      "Cell \u001b[1;32mIn[4], line 4\u001b[0m\n\u001b[0;32m      2\u001b[0m \u001b[39mprint\u001b[39m(my_tuple)\n\u001b[0;32m      3\u001b[0m \u001b[39mprint\u001b[39m(my_tuple[\u001b[39m1\u001b[39m:\u001b[39m4\u001b[39m])\n\u001b[1;32m----> 4\u001b[0m my_tuple[\u001b[39m2\u001b[39;49m] \u001b[39m=\u001b[39m \u001b[39m5\u001b[39m\n\u001b[0;32m      5\u001b[0m \u001b[39m# Yep, you will get an error!\u001b[39;00m\n",
      "\u001b[1;31mTypeError\u001b[0m: 'tuple' object does not support item assignment"
     ]
    }
   ],
   "source": [
    "my_tuple = (1,3,4,5,6)\n",
    "print(my_tuple)\n",
    "print(my_tuple[1:4])\n",
    "my_tuple[2] = 5\n",
    "# Yep, you will get an error!"
   ]
  },
  {
   "cell_type": "code",
   "execution_count": 5,
   "metadata": {},
   "outputs": [
    {
     "name": "stdout",
     "output_type": "stream",
     "text": [
      "(1, 3, 5, 5, 6)\n"
     ]
    }
   ],
   "source": [
    "my_tuple = (1,3,4,5,6)\n",
    "my_tuple = my_tuple[:2]+(5,)+my_tuple[3:]\n",
    "print(my_tuple)"
   ]
  },
  {
   "cell_type": "code",
   "execution_count": 6,
   "metadata": {},
   "outputs": [
    {
     "name": "stdout",
     "output_type": "stream",
     "text": [
      "4\n",
      "5\n",
      "5\n",
      "4\n"
     ]
    },
    {
     "ename": "ValueError",
     "evalue": "too many values to unpack (expected 2)",
     "output_type": "error",
     "traceback": [
      "\u001b[1;31m---------------------------------------------------------------------------\u001b[0m",
      "\u001b[1;31mValueError\u001b[0m                                Traceback (most recent call last)",
      "Cell \u001b[1;32mIn[6], line 7\u001b[0m\n\u001b[0;32m      5\u001b[0m \u001b[39mprint\u001b[39m(a)\n\u001b[0;32m      6\u001b[0m \u001b[39mprint\u001b[39m(b)\n\u001b[1;32m----> 7\u001b[0m a,b \u001b[39m=\u001b[39m \u001b[39m2\u001b[39m,\u001b[39m4\u001b[39m,\u001b[39m6\u001b[39m\n",
      "\u001b[1;31mValueError\u001b[0m: too many values to unpack (expected 2)"
     ]
    }
   ],
   "source": [
    "a,b = 4,5\n",
    "print(a)\n",
    "print(b)\n",
    "a,b = b,a\n",
    "print(a)\n",
    "print(b)\n",
    "a,b = 2,4,6  # This will cause an error too!"
   ]
  },
  {
   "cell_type": "code",
   "execution_count": 7,
   "metadata": {},
   "outputs": [
    {
     "name": "stdout",
     "output_type": "stream",
     "text": [
      "0.75\n",
      "john\n",
      "smith\n",
      "003034\n",
      "A\n"
     ]
    }
   ],
   "source": [
    "value = '3pi/4'\n",
    "\n",
    "(numerator,denominator) = value.split('pi/')\n",
    "print(int(numerator)/int(denominator))\n",
    "\n",
    "line = \"john,smith,003034,A\"\n",
    "(fname,lname,sid,grade) = line.split(',')\n",
    "print(fname)\n",
    "print(lname)\n",
    "print(sid)\n",
    "print(grade)"
   ]
  },
  {
   "cell_type": "code",
   "execution_count": 8,
   "metadata": {},
   "outputs": [
    {
     "name": "stdout",
     "output_type": "stream",
     "text": [
      "1\n",
      "978\n"
     ]
    }
   ],
   "source": [
    "def minmax(seq):\n",
    "    return (min(seq),max(seq))\n",
    "\n",
    "values = [1,3,5,6,8,978]\n",
    "names = \"Bob\", \"Jim\", \"April\", \"Jill\"\n",
    "\n",
    "minv, maxv = minmax(values)\n",
    "\n",
    "print(minv)\n",
    "print(maxv)\n"
   ]
  }
 ],
 "metadata": {
  "kernelspec": {
   "display_name": "Python 3.9.5 ('hamkdpp': venv)",
   "language": "python",
   "name": "python3"
  },
  "language_info": {
   "codemirror_mode": {
    "name": "ipython",
    "version": 3
   },
   "file_extension": ".py",
   "mimetype": "text/x-python",
   "name": "python",
   "nbconvert_exporter": "python",
   "pygments_lexer": "ipython3",
   "version": "3.11.4"
  },
  "orig_nbformat": 4,
  "vscode": {
   "interpreter": {
    "hash": "f37ace324e77e76b17a78f9d135d5eaf5a4f94d885f9461276a8cffaa444125f"
   }
  }
 },
 "nbformat": 4,
 "nbformat_minor": 2
}
