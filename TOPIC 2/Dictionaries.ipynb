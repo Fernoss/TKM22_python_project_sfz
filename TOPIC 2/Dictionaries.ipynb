{
 "cells": [
  {
   "cell_type": "code",
   "execution_count": 1,
   "metadata": {},
   "outputs": [
    {
     "data": {
      "text/plain": [
       "[65, 75, 83, 98]"
      ]
     },
     "execution_count": 1,
     "metadata": {},
     "output_type": "execute_result"
    }
   ],
   "source": [
    "# Not yet dictionary, but note there is no need for using notation grades = grades.append(83)\n",
    "# So the append function modifies the list that already exists!\n",
    "grades = [75,65,98]\n",
    "grades.append(83)\n",
    "grades.sort()\n",
    "grades"
   ]
  },
  {
   "cell_type": "code",
   "execution_count": 2,
   "metadata": {},
   "outputs": [
    {
     "name": "stdout",
     "output_type": "stream",
     "text": [
      "[]\n",
      "{}\n"
     ]
    }
   ],
   "source": [
    "my_list = list()\n",
    "my_dictionary = dict()\n",
    "print(my_list)\n",
    "print(my_dictionary)"
   ]
  },
  {
   "cell_type": "code",
   "execution_count": 3,
   "metadata": {},
   "outputs": [
    {
     "name": "stdout",
     "output_type": "stream",
     "text": [
      "value\n"
     ]
    },
    {
     "ename": "KeyError",
     "evalue": "'no_key'",
     "output_type": "error",
     "traceback": [
      "\u001b[1;31m---------------------------------------------------------------------------\u001b[0m",
      "\u001b[1;31mKeyError\u001b[0m                                  Traceback (most recent call last)",
      "Cell \u001b[1;32mIn[3], line 4\u001b[0m\n\u001b[0;32m      2\u001b[0m my_dictionary[\u001b[39m'\u001b[39m\u001b[39mkey\u001b[39m\u001b[39m'\u001b[39m] \u001b[39m=\u001b[39m \u001b[39m\"\u001b[39m\u001b[39mvalue\u001b[39m\u001b[39m\"\u001b[39m\n\u001b[0;32m      3\u001b[0m \u001b[39mprint\u001b[39m(my_dictionary[\u001b[39m'\u001b[39m\u001b[39mkey\u001b[39m\u001b[39m'\u001b[39m])\n\u001b[1;32m----> 4\u001b[0m \u001b[39mprint\u001b[39m(my_dictionary[\u001b[39m'\u001b[39;49m\u001b[39mno_key\u001b[39;49m\u001b[39m'\u001b[39;49m])  \u001b[39m# Yep, for this you are supposed to get error!\u001b[39;00m\n",
      "\u001b[1;31mKeyError\u001b[0m: 'no_key'"
     ]
    }
   ],
   "source": [
    "my_dictionary = dict()\n",
    "my_dictionary['key'] = \"value\"\n",
    "print(my_dictionary['key'])\n",
    "print(my_dictionary['no_key'])  # Yep, for this you are supposed to get error!\n"
   ]
  },
  {
   "cell_type": "code",
   "execution_count": 4,
   "metadata": {},
   "outputs": [
    {
     "name": "stdout",
     "output_type": "stream",
     "text": [
      "{'one': 'gary', 'two': 'dean', 'three': 'larry', 'four': 'sean', 'five': 'mitch'}\n"
     ]
    }
   ],
   "source": [
    "my_dictionary = dict()\n",
    "my_dictionary[\"one\"] = 'gary'\n",
    "my_dictionary[\"two\"] = 'dean'\n",
    "my_dictionary[\"three\"] = 'larry'\n",
    "my_dictionary[\"four\"] = 'sean'\n",
    "my_dictionary[\"five\"] = 'mitch'\n",
    "print(my_dictionary)"
   ]
  },
  {
   "cell_type": "code",
   "execution_count": 5,
   "metadata": {},
   "outputs": [
    {
     "name": "stdout",
     "output_type": "stream",
     "text": [
      "{'uno': 'gary', 'dos': 'dean', 'tres': 'larry', 'cuatro': 'sean', 'cinco': 'mitch'}\n"
     ]
    }
   ],
   "source": [
    "my_dictionary = dict()\n",
    "my_dictionary = {'uno': 'gary', 'dos': 'dean', 'tres':'larry', 'cuatro':'sean','cinco':'mitch'}\n",
    "print(my_dictionary)"
   ]
  },
  {
   "cell_type": "code",
   "execution_count": 6,
   "metadata": {},
   "outputs": [
    {
     "name": "stdout",
     "output_type": "stream",
     "text": [
      "True\n",
      "False\n",
      "5\n"
     ]
    }
   ],
   "source": [
    "my_dictionary = dict()\n",
    "my_dictionary[\"one\"] = 'gary'\n",
    "my_dictionary[\"two\"] = 'dean'\n",
    "my_dictionary[\"three\"] = 'larry'\n",
    "my_dictionary[\"four\"] = 'sean'\n",
    "my_dictionary[\"five\"] = 'mitch'\n",
    "print('one' in my_dictionary)\n",
    "print('gary' in my_dictionary)\n",
    "print(len(my_dictionary))\n"
   ]
  },
  {
   "cell_type": "code",
   "execution_count": 7,
   "metadata": {},
   "outputs": [
    {
     "name": "stdout",
     "output_type": "stream",
     "text": [
      "['uno', 'dos', 'tres']\n",
      "dos\n",
      "tres\n",
      "uno\n"
     ]
    }
   ],
   "source": [
    "my_dictionary = dict()\n",
    "my_dictionary = {'uno': 'gary', 'dos': 'dean', 'tres':'larry'}\n",
    "print(list(my_dictionary))\n",
    "for elem in sorted(my_dictionary):\n",
    "    print(elem)"
   ]
  },
  {
   "cell_type": "code",
   "execution_count": 8,
   "metadata": {},
   "outputs": [
    {
     "name": "stdout",
     "output_type": "stream",
     "text": [
      "uno\n",
      "dos\n",
      "tres\n"
     ]
    }
   ],
   "source": [
    "for item in my_dictionary:\n",
    "    print(item)\n",
    "\n"
   ]
  },
  {
   "cell_type": "code",
   "execution_count": 9,
   "metadata": {},
   "outputs": [
    {
     "name": "stdout",
     "output_type": "stream",
     "text": [
      "gary\n",
      "dean\n",
      "larry\n"
     ]
    }
   ],
   "source": [
    "for item in my_dictionary:\n",
    "    print(my_dictionary[item])"
   ]
  },
  {
   "cell_type": "code",
   "execution_count": 10,
   "metadata": {},
   "outputs": [
    {
     "name": "stdout",
     "output_type": "stream",
     "text": [
      "34\n",
      "{'greg': [83, 94, 34, 70], 'bobby': [99, 87, 82, 90]}\n"
     ]
    }
   ],
   "source": [
    "students = dict()\n",
    "grades = [83, 94, 34, 70]\n",
    "students['greg'] = grades\n",
    "students['bobby'] = [99,87,82,90]\n",
    "print(students['greg'][2])\n",
    "print(students)"
   ]
  },
  {
   "cell_type": "code",
   "execution_count": 11,
   "metadata": {},
   "outputs": [
    {
     "name": "stdout",
     "output_type": "stream",
     "text": [
      "greg\n",
      "82\n",
      "[{'fname': 'greg', 'lname': 'nguyen', 'ID': '003003003', 'grades': [99, 87, 82, 90]}, {'fname': 'bryan', 'lname': 'burlingame', 'ID': '001478315', 'grades': [49, 56, 75, 90]}]\n"
     ]
    }
   ],
   "source": [
    "student1 = dict()\n",
    "student1['fname']='greg'\n",
    "student1['lname']='nguyen'\n",
    "student1['ID'] = '003003003'\n",
    "student1['grades'] = [99,87,82,90]\n",
    "\n",
    "\n",
    "student2 = dict()\n",
    "student2['fname']='bryan'\n",
    "student2['lname']='burlingame'\n",
    "student2['ID'] = '001478315'\n",
    "student2['grades'] = [49,56,75,90]\n",
    "\n",
    "students = [student1, student2]\n",
    "\n",
    "print(students[0]['fname'])\n",
    "print(students[0]['grades'][2])\n",
    "print(students)\n"
   ]
  },
  {
   "cell_type": "code",
   "execution_count": 12,
   "metadata": {},
   "outputs": [
    {
     "name": "stdout",
     "output_type": "stream",
     "text": [
      "nguyen,greg:89.5\n",
      "burlingame,bryan:67.5\n"
     ]
    }
   ],
   "source": [
    "for student in students: \n",
    "    total = 0\n",
    "    for grade in student['grades']:\n",
    "        total += grade\n",
    "    print(student['lname']+','+student['fname']+\":\"+str(total/len(student['grades'])))"
   ]
  }
 ],
 "metadata": {
  "kernelspec": {
   "display_name": "Python 3.9.5 ('hamkdpp': venv)",
   "language": "python",
   "name": "python3"
  },
  "language_info": {
   "codemirror_mode": {
    "name": "ipython",
    "version": 3
   },
   "file_extension": ".py",
   "mimetype": "text/x-python",
   "name": "python",
   "nbconvert_exporter": "python",
   "pygments_lexer": "ipython3",
   "version": "3.11.4"
  },
  "orig_nbformat": 4,
  "vscode": {
   "interpreter": {
    "hash": "f37ace324e77e76b17a78f9d135d5eaf5a4f94d885f9461276a8cffaa444125f"
   }
  }
 },
 "nbformat": 4,
 "nbformat_minor": 2
}
