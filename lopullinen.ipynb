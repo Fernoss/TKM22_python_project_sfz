{
 "cells": [
  {
   "cell_type": "code",
   "execution_count": 37,
   "metadata": {},
   "outputs": [],
   "source": [
    "import numpy as np\n",
    "import pandas as pd\n",
    "import matplotlib.pyplot as plt\n",
    "import seaborn as sns\n",
    "\n",
    "%matplotlib inline"
   ]
  },
  {
   "cell_type": "code",
   "execution_count": 38,
   "metadata": {},
   "outputs": [],
   "source": [
    "df = pd.read_excel('WorkPlaceSatisfactionSurveyData.xlsx')"
   ]
  },
  {
   "cell_type": "code",
   "execution_count": 39,
   "metadata": {},
   "outputs": [
    {
     "data": {
      "text/html": [
       "<div>\n",
       "<style scoped>\n",
       "    .dataframe tbody tr th:only-of-type {\n",
       "        vertical-align: middle;\n",
       "    }\n",
       "\n",
       "    .dataframe tbody tr th {\n",
       "        vertical-align: top;\n",
       "    }\n",
       "\n",
       "    .dataframe thead th {\n",
       "        text-align: right;\n",
       "    }\n",
       "</style>\n",
       "<table border=\"1\" class=\"dataframe\">\n",
       "  <thead>\n",
       "    <tr style=\"text-align: right;\">\n",
       "      <th></th>\n",
       "      <th>number</th>\n",
       "      <th>gender</th>\n",
       "      <th>age</th>\n",
       "      <th>family</th>\n",
       "      <th>education</th>\n",
       "      <th>years_of_service</th>\n",
       "      <th>salary</th>\n",
       "      <th>sat_management</th>\n",
       "      <th>sat_colleques</th>\n",
       "      <th>sat_workingEnvironment</th>\n",
       "      <th>sat_salary</th>\n",
       "      <th>sat_tasks</th>\n",
       "      <th>healtcare</th>\n",
       "      <th>holidayCabin</th>\n",
       "      <th>gym</th>\n",
       "      <th>muscleCare</th>\n",
       "    </tr>\n",
       "  </thead>\n",
       "  <tbody>\n",
       "    <tr>\n",
       "      <th>0</th>\n",
       "      <td>1</td>\n",
       "      <td>1</td>\n",
       "      <td>38</td>\n",
       "      <td>1</td>\n",
       "      <td>1.0</td>\n",
       "      <td>22.0</td>\n",
       "      <td>3587</td>\n",
       "      <td>3</td>\n",
       "      <td>3.0</td>\n",
       "      <td>3</td>\n",
       "      <td>3</td>\n",
       "      <td>3</td>\n",
       "      <td>NaN</td>\n",
       "      <td>NaN</td>\n",
       "      <td>NaN</td>\n",
       "      <td>NaN</td>\n",
       "    </tr>\n",
       "    <tr>\n",
       "      <th>1</th>\n",
       "      <td>2</td>\n",
       "      <td>1</td>\n",
       "      <td>29</td>\n",
       "      <td>2</td>\n",
       "      <td>2.0</td>\n",
       "      <td>10.0</td>\n",
       "      <td>2963</td>\n",
       "      <td>1</td>\n",
       "      <td>5.0</td>\n",
       "      <td>2</td>\n",
       "      <td>1</td>\n",
       "      <td>3</td>\n",
       "      <td>NaN</td>\n",
       "      <td>NaN</td>\n",
       "      <td>NaN</td>\n",
       "      <td>NaN</td>\n",
       "    </tr>\n",
       "    <tr>\n",
       "      <th>2</th>\n",
       "      <td>3</td>\n",
       "      <td>1</td>\n",
       "      <td>30</td>\n",
       "      <td>1</td>\n",
       "      <td>1.0</td>\n",
       "      <td>7.0</td>\n",
       "      <td>1989</td>\n",
       "      <td>3</td>\n",
       "      <td>4.0</td>\n",
       "      <td>1</td>\n",
       "      <td>1</td>\n",
       "      <td>3</td>\n",
       "      <td>1.0</td>\n",
       "      <td>NaN</td>\n",
       "      <td>NaN</td>\n",
       "      <td>NaN</td>\n",
       "    </tr>\n",
       "    <tr>\n",
       "      <th>3</th>\n",
       "      <td>4</td>\n",
       "      <td>1</td>\n",
       "      <td>36</td>\n",
       "      <td>2</td>\n",
       "      <td>1.0</td>\n",
       "      <td>14.0</td>\n",
       "      <td>2144</td>\n",
       "      <td>3</td>\n",
       "      <td>3.0</td>\n",
       "      <td>3</td>\n",
       "      <td>3</td>\n",
       "      <td>3</td>\n",
       "      <td>1.0</td>\n",
       "      <td>NaN</td>\n",
       "      <td>NaN</td>\n",
       "      <td>NaN</td>\n",
       "    </tr>\n",
       "    <tr>\n",
       "      <th>4</th>\n",
       "      <td>5</td>\n",
       "      <td>1</td>\n",
       "      <td>24</td>\n",
       "      <td>1</td>\n",
       "      <td>2.0</td>\n",
       "      <td>4.0</td>\n",
       "      <td>2183</td>\n",
       "      <td>2</td>\n",
       "      <td>3.0</td>\n",
       "      <td>2</td>\n",
       "      <td>1</td>\n",
       "      <td>2</td>\n",
       "      <td>1.0</td>\n",
       "      <td>NaN</td>\n",
       "      <td>NaN</td>\n",
       "      <td>NaN</td>\n",
       "    </tr>\n",
       "  </tbody>\n",
       "</table>\n",
       "</div>"
      ],
      "text/plain": [
       "   number  gender  age  family  education  years_of_service  salary  \\\n",
       "0       1       1   38       1        1.0              22.0    3587   \n",
       "1       2       1   29       2        2.0              10.0    2963   \n",
       "2       3       1   30       1        1.0               7.0    1989   \n",
       "3       4       1   36       2        1.0              14.0    2144   \n",
       "4       5       1   24       1        2.0               4.0    2183   \n",
       "\n",
       "   sat_management  sat_colleques  sat_workingEnvironment  sat_salary  \\\n",
       "0               3            3.0                       3           3   \n",
       "1               1            5.0                       2           1   \n",
       "2               3            4.0                       1           1   \n",
       "3               3            3.0                       3           3   \n",
       "4               2            3.0                       2           1   \n",
       "\n",
       "   sat_tasks  healtcare  holidayCabin  gym  muscleCare  \n",
       "0          3        NaN           NaN  NaN         NaN  \n",
       "1          3        NaN           NaN  NaN         NaN  \n",
       "2          3        1.0           NaN  NaN         NaN  \n",
       "3          3        1.0           NaN  NaN         NaN  \n",
       "4          2        1.0           NaN  NaN         NaN  "
      ]
     },
     "execution_count": 39,
     "metadata": {},
     "output_type": "execute_result"
    }
   ],
   "source": [
    "df.head()"
   ]
  },
  {
   "cell_type": "code",
   "execution_count": 40,
   "metadata": {},
   "outputs": [],
   "source": [
    "df=df.drop(['healtcare'], axis=1)\n",
    "df=df.drop(['holidayCabin'], axis=1)\n",
    "df=df.drop(['gym'], axis=1)\n",
    "df=df.drop(['muscleCare'], axis=1)"
   ]
  },
  {
   "cell_type": "code",
   "execution_count": 41,
   "metadata": {},
   "outputs": [
    {
     "data": {
      "text/html": [
       "<div>\n",
       "<style scoped>\n",
       "    .dataframe tbody tr th:only-of-type {\n",
       "        vertical-align: middle;\n",
       "    }\n",
       "\n",
       "    .dataframe tbody tr th {\n",
       "        vertical-align: top;\n",
       "    }\n",
       "\n",
       "    .dataframe thead th {\n",
       "        text-align: right;\n",
       "    }\n",
       "</style>\n",
       "<table border=\"1\" class=\"dataframe\">\n",
       "  <thead>\n",
       "    <tr style=\"text-align: right;\">\n",
       "      <th></th>\n",
       "      <th>number</th>\n",
       "      <th>gender</th>\n",
       "      <th>age</th>\n",
       "      <th>family</th>\n",
       "      <th>education</th>\n",
       "      <th>years_of_service</th>\n",
       "      <th>salary</th>\n",
       "      <th>sat_management</th>\n",
       "      <th>sat_colleques</th>\n",
       "      <th>sat_workingEnvironment</th>\n",
       "      <th>sat_salary</th>\n",
       "      <th>sat_tasks</th>\n",
       "    </tr>\n",
       "  </thead>\n",
       "  <tbody>\n",
       "    <tr>\n",
       "      <th>0</th>\n",
       "      <td>1</td>\n",
       "      <td>1</td>\n",
       "      <td>38</td>\n",
       "      <td>1</td>\n",
       "      <td>1.0</td>\n",
       "      <td>22.0</td>\n",
       "      <td>3587</td>\n",
       "      <td>3</td>\n",
       "      <td>3.0</td>\n",
       "      <td>3</td>\n",
       "      <td>3</td>\n",
       "      <td>3</td>\n",
       "    </tr>\n",
       "    <tr>\n",
       "      <th>1</th>\n",
       "      <td>2</td>\n",
       "      <td>1</td>\n",
       "      <td>29</td>\n",
       "      <td>2</td>\n",
       "      <td>2.0</td>\n",
       "      <td>10.0</td>\n",
       "      <td>2963</td>\n",
       "      <td>1</td>\n",
       "      <td>5.0</td>\n",
       "      <td>2</td>\n",
       "      <td>1</td>\n",
       "      <td>3</td>\n",
       "    </tr>\n",
       "    <tr>\n",
       "      <th>2</th>\n",
       "      <td>3</td>\n",
       "      <td>1</td>\n",
       "      <td>30</td>\n",
       "      <td>1</td>\n",
       "      <td>1.0</td>\n",
       "      <td>7.0</td>\n",
       "      <td>1989</td>\n",
       "      <td>3</td>\n",
       "      <td>4.0</td>\n",
       "      <td>1</td>\n",
       "      <td>1</td>\n",
       "      <td>3</td>\n",
       "    </tr>\n",
       "    <tr>\n",
       "      <th>3</th>\n",
       "      <td>4</td>\n",
       "      <td>1</td>\n",
       "      <td>36</td>\n",
       "      <td>2</td>\n",
       "      <td>1.0</td>\n",
       "      <td>14.0</td>\n",
       "      <td>2144</td>\n",
       "      <td>3</td>\n",
       "      <td>3.0</td>\n",
       "      <td>3</td>\n",
       "      <td>3</td>\n",
       "      <td>3</td>\n",
       "    </tr>\n",
       "    <tr>\n",
       "      <th>4</th>\n",
       "      <td>5</td>\n",
       "      <td>1</td>\n",
       "      <td>24</td>\n",
       "      <td>1</td>\n",
       "      <td>2.0</td>\n",
       "      <td>4.0</td>\n",
       "      <td>2183</td>\n",
       "      <td>2</td>\n",
       "      <td>3.0</td>\n",
       "      <td>2</td>\n",
       "      <td>1</td>\n",
       "      <td>2</td>\n",
       "    </tr>\n",
       "  </tbody>\n",
       "</table>\n",
       "</div>"
      ],
      "text/plain": [
       "   number  gender  age  family  education  years_of_service  salary  \\\n",
       "0       1       1   38       1        1.0              22.0    3587   \n",
       "1       2       1   29       2        2.0              10.0    2963   \n",
       "2       3       1   30       1        1.0               7.0    1989   \n",
       "3       4       1   36       2        1.0              14.0    2144   \n",
       "4       5       1   24       1        2.0               4.0    2183   \n",
       "\n",
       "   sat_management  sat_colleques  sat_workingEnvironment  sat_salary  \\\n",
       "0               3            3.0                       3           3   \n",
       "1               1            5.0                       2           1   \n",
       "2               3            4.0                       1           1   \n",
       "3               3            3.0                       3           3   \n",
       "4               2            3.0                       2           1   \n",
       "\n",
       "   sat_tasks  \n",
       "0          3  \n",
       "1          3  \n",
       "2          3  \n",
       "3          3  \n",
       "4          2  "
      ]
     },
     "execution_count": 41,
     "metadata": {},
     "output_type": "execute_result"
    }
   ],
   "source": [
    "df.head()"
   ]
  },
  {
   "cell_type": "code",
   "execution_count": 42,
   "metadata": {},
   "outputs": [
    {
     "data": {
      "text/plain": [
       "number                    82\n",
       "gender                    82\n",
       "age                       82\n",
       "family                    82\n",
       "education                 81\n",
       "years_of_service          80\n",
       "salary                    82\n",
       "sat_management            82\n",
       "sat_colleques             81\n",
       "sat_workingEnvironment    82\n",
       "sat_salary                82\n",
       "sat_tasks                 82\n",
       "dtype: int64"
      ]
     },
     "execution_count": 42,
     "metadata": {},
     "output_type": "execute_result"
    }
   ],
   "source": [
    "df.count()"
   ]
  },
  {
   "cell_type": "markdown",
   "metadata": {},
   "source": [
    "## Palkan tutkiskelua"
   ]
  },
  {
   "cell_type": "code",
   "execution_count": 43,
   "metadata": {},
   "outputs": [
    {
     "data": {
      "text/plain": [
       "1521"
      ]
     },
     "execution_count": 43,
     "metadata": {},
     "output_type": "execute_result"
    }
   ],
   "source": [
    "min(df['salary'])"
   ]
  },
  {
   "cell_type": "code",
   "execution_count": 44,
   "metadata": {},
   "outputs": [
    {
     "data": {
      "text/plain": [
       "6278"
      ]
     },
     "execution_count": 44,
     "metadata": {},
     "output_type": "execute_result"
    }
   ],
   "source": [
    "max(df['salary'])"
   ]
  },
  {
   "cell_type": "code",
   "execution_count": 45,
   "metadata": {},
   "outputs": [],
   "source": [
    "bins = [1500, 2000, 2500, 3000, 3500, 4000, 7000]"
   ]
  },
  {
   "cell_type": "code",
   "execution_count": 46,
   "metadata": {},
   "outputs": [],
   "source": [
    "df['income_class'] = pd.cut(df['salary'], bins = bins)"
   ]
  },
  {
   "cell_type": "code",
   "execution_count": 47,
   "metadata": {},
   "outputs": [
    {
     "data": {
      "text/html": [
       "<style type=\"text/css\">\n",
       "</style>\n",
       "<table id=\"T_ca392\">\n",
       "  <thead>\n",
       "    <tr>\n",
       "      <th class=\"index_name level0\" ></th>\n",
       "      <th id=\"T_ca392_level0_col0\" class=\"col_heading level0 col0\" >Count</th>\n",
       "      <th id=\"T_ca392_level0_col1\" class=\"col_heading level0 col1\" >%</th>\n",
       "    </tr>\n",
       "    <tr>\n",
       "      <th class=\"index_name level0\" >income_class</th>\n",
       "      <th class=\"blank col0\" >&nbsp;</th>\n",
       "      <th class=\"blank col1\" >&nbsp;</th>\n",
       "    </tr>\n",
       "  </thead>\n",
       "  <tbody>\n",
       "    <tr>\n",
       "      <th id=\"T_ca392_level0_row0\" class=\"row_heading level0 row0\" >(1500, 2000]</th>\n",
       "      <td id=\"T_ca392_row0_col0\" class=\"data row0 col0\" >19</td>\n",
       "      <td id=\"T_ca392_row0_col1\" class=\"data row0 col1\" >23.2 %</td>\n",
       "    </tr>\n",
       "    <tr>\n",
       "      <th id=\"T_ca392_level0_row1\" class=\"row_heading level0 row1\" >(2000, 2500]</th>\n",
       "      <td id=\"T_ca392_row1_col0\" class=\"data row1 col0\" >28</td>\n",
       "      <td id=\"T_ca392_row1_col1\" class=\"data row1 col1\" >34.1 %</td>\n",
       "    </tr>\n",
       "    <tr>\n",
       "      <th id=\"T_ca392_level0_row2\" class=\"row_heading level0 row2\" >(2500, 3000]</th>\n",
       "      <td id=\"T_ca392_row2_col0\" class=\"data row2 col0\" >22</td>\n",
       "      <td id=\"T_ca392_row2_col1\" class=\"data row2 col1\" >26.8 %</td>\n",
       "    </tr>\n",
       "    <tr>\n",
       "      <th id=\"T_ca392_level0_row3\" class=\"row_heading level0 row3\" >(3000, 3500]</th>\n",
       "      <td id=\"T_ca392_row3_col0\" class=\"data row3 col0\" >4</td>\n",
       "      <td id=\"T_ca392_row3_col1\" class=\"data row3 col1\" >4.9 %</td>\n",
       "    </tr>\n",
       "    <tr>\n",
       "      <th id=\"T_ca392_level0_row4\" class=\"row_heading level0 row4\" >(3500, 4000]</th>\n",
       "      <td id=\"T_ca392_row4_col0\" class=\"data row4 col0\" >4</td>\n",
       "      <td id=\"T_ca392_row4_col1\" class=\"data row4 col1\" >4.9 %</td>\n",
       "    </tr>\n",
       "    <tr>\n",
       "      <th id=\"T_ca392_level0_row5\" class=\"row_heading level0 row5\" >(4000, 7000]</th>\n",
       "      <td id=\"T_ca392_row5_col0\" class=\"data row5 col0\" >5</td>\n",
       "      <td id=\"T_ca392_row5_col1\" class=\"data row5 col1\" >6.1 %</td>\n",
       "    </tr>\n",
       "    <tr>\n",
       "      <th id=\"T_ca392_level0_row6\" class=\"row_heading level0 row6\" >total</th>\n",
       "      <td id=\"T_ca392_row6_col0\" class=\"data row6 col0\" >82</td>\n",
       "      <td id=\"T_ca392_row6_col1\" class=\"data row6 col1\" >100.0 %</td>\n",
       "    </tr>\n",
       "  </tbody>\n",
       "</table>\n"
      ],
      "text/plain": [
       "<pandas.io.formats.style.Styler at 0x1f98f2dbcd0>"
      ]
     },
     "execution_count": 47,
     "metadata": {},
     "output_type": "execute_result"
    }
   ],
   "source": [
    "df3 = pd.crosstab(df['income_class'], 'Count')\n",
    "\n",
    "df3.columns.name = ''\n",
    "\n",
    "# Percentages\n",
    "n = df3['Count'].sum()\n",
    "df3['%'] = df3 / n * 100\n",
    "\n",
    "df3.loc['total'] = df3.sum()\n",
    "df3.style.format({'Count': '{:.0f}', '%': '{:.1f} %'})"
   ]
  },
  {
   "cell_type": "code",
   "execution_count": 48,
   "metadata": {},
   "outputs": [],
   "source": [
    "df['income_class'] = pd.cut(df['salary'], bins = bins)"
   ]
  },
  {
   "cell_type": "code",
   "execution_count": 49,
   "metadata": {},
   "outputs": [
    {
     "data": {
      "text/plain": [
       "min     1521.000000\n",
       "max     6278.000000\n",
       "mean    2563.878049\n",
       "50%     2320.000000\n",
       "Name: salary, dtype: float64"
      ]
     },
     "execution_count": 49,
     "metadata": {},
     "output_type": "execute_result"
    }
   ],
   "source": [
    "df['salary'].describe().loc[['min', 'max', 'mean', '50%']]"
   ]
  },
  {
   "cell_type": "code",
   "execution_count": 50,
   "metadata": {},
   "outputs": [
    {
     "name": "stderr",
     "output_type": "stream",
     "text": [
      "C:\\Users\\Gaire\\AppData\\Local\\Packages\\PythonSoftwareFoundation.Python.3.11_qbz5n2kfra8p0\\LocalCache\\local-packages\\Python311\\site-packages\\seaborn\\_oldcore.py:1498: FutureWarning: is_categorical_dtype is deprecated and will be removed in a future version. Use isinstance(dtype, CategoricalDtype) instead\n",
      "  if pd.api.types.is_categorical_dtype(vector):\n"
     ]
    },
    {
     "data": {
      "text/plain": [
       "Text(0.5, 36.72222222222221, 'Average salary, n=82')"
      ]
     },
     "execution_count": 50,
     "metadata": {},
     "output_type": "execute_result"
    }
   ],
   "source": [
    "ax3 = sns.boxplot(x = df['salary'])\n",
    "\n",
    "ax3.set_xlabel('Average salary, n=' + str(df['salary'].count()))"
   ]
  },
  {
   "cell_type": "code",
   "execution_count": 51,
   "metadata": {},
   "outputs": [
    {
     "data": {
      "image/png": "[encoded data removed]",
      "text/plain": [
       "<Figure size 600x600 with 1 Axes>"
      ]
     },
     "metadata": {},
     "output_type": "display_data"
    }
   ],
   "source": [
    "\n",
    "df6 = pd.crosstab(df['income_class'], 'Count')\n",
    "\n",
    " \n",
    "\n",
    "df6.columns.name = ''\n",
    "\n",
    " \n",
    "\n",
    "# Percentages\n",
    "\n",
    "n = df6['Count'].sum()\n",
    "\n",
    "df6['%'] = df6 / n * 100\n",
    "\n",
    "labels = ['1500€-2000€', '2000€-2500€', '2500€-3000€', '3000€-3500€', '3500€-4000€', '4000€-7000€']\n",
    "\n",
    "percentages = df6['%']\n",
    "\n",
    "colors = ['blue', 'red', 'gold', 'green', 'gray', 'tan']\n",
    "\n",
    "plt.pie(percentages, labels=labels, colors = colors, autopct='%1.1f%%', startangle=90)\n",
    "\n",
    "plt.title('Salaries')\n",
    "\n",
    "plt.subplots_adjust(top=1.2)\n",
    "\n",
    "plt.axis('equal')\n",
    "\n",
    "plt.xlabel('%, n = ' + str(df6['Count'].sum()))\n",
    "\n",
    "plt.show()"
   ]
  },
  {
   "cell_type": "markdown",
   "metadata": {},
   "source": [
    "## Siviilisäädyn tutkiskelua"
   ]
  },
  {
   "cell_type": "code",
   "execution_count": 52,
   "metadata": {},
   "outputs": [
    {
     "data": {
      "text/plain": [
       "family\n",
       "2    51\n",
       "1    31\n",
       "Name: count, dtype: int64"
      ]
     },
     "execution_count": 16,
     "metadata": {},
     "output_type": "execute_result"
    },
    {
     "name": "stderr",
     "output_type": "stream",
     "text": [
      "No such comm: 8c52152cb3794794a68eebae57d39fb2\n"
     ]
    },
    {
     "data": {
      "text/plain": [
       "family\n",
       "2    51\n",
       "1    31\n",
       "Name: count, dtype: int64"
      ]
     },
     "execution_count": 52,
     "metadata": {},
     "output_type": "execute_result"
    }
   ],
   "source": [
    "df.value_counts(df['family'])"
   ]
  },
  {
   "cell_type": "code",
   "execution_count": 53,
   "metadata": {},
   "outputs": [
    {
     "data": {
      "text/html": [
       "<div>\n",
       "<style scoped>\n",
       "    .dataframe tbody tr th:only-of-type {\n",
       "        vertical-align: middle;\n",
       "    }\n",
       "\n",
       "    .dataframe tbody tr th {\n",
       "        vertical-align: top;\n",
       "    }\n",
       "\n",
       "    .dataframe thead th {\n",
       "        text-align: right;\n",
       "    }\n",
       "</style>\n",
       "<table border=\"1\" class=\"dataframe\">\n",
       "  <thead>\n",
       "    <tr style=\"text-align: right;\">\n",
       "      <th>col_0</th>\n",
       "      <th>Count</th>\n",
       "    </tr>\n",
       "    <tr>\n",
       "      <th>family</th>\n",
       "      <th></th>\n",
       "    </tr>\n",
       "  </thead>\n",
       "  <tbody>\n",
       "    <tr>\n",
       "      <th>1</th>\n",
       "      <td>31</td>\n",
       "    </tr>\n",
       "    <tr>\n",
       "      <th>2</th>\n",
       "      <td>51</td>\n",
       "    </tr>\n",
       "  </tbody>\n",
       "</table>\n",
       "</div>"
      ],
      "text/plain": [
       "col_0   Count\n",
       "family       \n",
       "1          31\n",
       "2          51"
      ]
     },
     "execution_count": 53,
     "metadata": {},
     "output_type": "execute_result"
    }
   ],
   "source": [
    "df1=pd.crosstab(df['family'], 'Count')\n",
    "df1"
   ]
  },
  {
   "cell_type": "code",
   "execution_count": 54,
   "metadata": {},
   "outputs": [
    {
     "data": {
      "text/plain": [
       "82"
      ]
     },
     "execution_count": 54,
     "metadata": {},
     "output_type": "execute_result"
    }
   ],
   "source": [
    "sum(df1['Count'])"
   ]
  },
  {
   "cell_type": "code",
   "execution_count": 55,
   "metadata": {},
   "outputs": [
    {
     "data": {
      "text/html": [
       "<div>\n",
       "<style scoped>\n",
       "    .dataframe tbody tr th:only-of-type {\n",
       "        vertical-align: middle;\n",
       "    }\n",
       "\n",
       "    .dataframe tbody tr th {\n",
       "        vertical-align: top;\n",
       "    }\n",
       "\n",
       "    .dataframe thead th {\n",
       "        text-align: right;\n",
       "    }\n",
       "</style>\n",
       "<table border=\"1\" class=\"dataframe\">\n",
       "  <thead>\n",
       "    <tr style=\"text-align: right;\">\n",
       "      <th></th>\n",
       "      <th>Count</th>\n",
       "    </tr>\n",
       "  </thead>\n",
       "  <tbody>\n",
       "    <tr>\n",
       "      <th>Single</th>\n",
       "      <td>31</td>\n",
       "    </tr>\n",
       "    <tr>\n",
       "      <th>Married</th>\n",
       "      <td>51</td>\n",
       "    </tr>\n",
       "  </tbody>\n",
       "</table>\n",
       "</div>"
      ],
      "text/plain": [
       "         Count\n",
       "Single      31\n",
       "Married     51"
      ]
     },
     "execution_count": 55,
     "metadata": {},
     "output_type": "execute_result"
    }
   ],
   "source": [
    "df1.index=['Single','Married']\n",
    "df1.columns.name=''\n",
    "df1"
   ]
  },
  {
   "cell_type": "code",
   "execution_count": 56,
   "metadata": {},
   "outputs": [
    {
     "data": {
      "text/plain": [
       "<Axes: >"
      ]
     },
     "execution_count": 56,
     "metadata": {},
     "output_type": "execute_result"
    },
    {
     "data": {
      "image/png": "[encoded data removed]",
      "text/plain": [
       "<Figure size 640x480 with 1 Axes>"
      ]
     },
     "metadata": {},
     "output_type": "display_data"
    }
   ],
   "source": [
    "df1.plot.barh()"
   ]
  },
  {
   "cell_type": "code",
   "execution_count": 57,
   "metadata": {},
   "outputs": [
    {
     "data": {
      "text/plain": [
       "Text(0.5, 0, 'Count n=82')"
      ]
     },
     "execution_count": 57,
     "metadata": {},
     "output_type": "execute_result"
    },
    {
     "data": {
      "image/png": "[encoded data removed]",
      "text/plain": [
       "<Figure size 640x480 with 1 Axes>"
      ]
     },
     "metadata": {},
     "output_type": "display_data"
    }
   ],
   "source": [
    "df1.plot.bar(legend = False)\n",
    "plt.xticks(rotation=0, horizontalalignment='center')\n",
    "plt.title('Marital status')\n",
    "plt.ylabel('Number of personel')\n",
    "plt.xlabel('Count n=82')"
   ]
  },
  {
   "cell_type": "markdown",
   "metadata": {},
   "source": [
    "## Tutkitaan kahta muuttujaa, ensin tyytyväisyys työilmapiriin ja perhe"
   ]
  },
  {
   "cell_type": "code",
   "execution_count": 58,
   "metadata": {},
   "outputs": [
    {
     "data": {
      "text/html": [
       "<div>\n",
       "<style scoped>\n",
       "    .dataframe tbody tr th:only-of-type {\n",
       "        vertical-align: middle;\n",
       "    }\n",
       "\n",
       "    .dataframe tbody tr th {\n",
       "        vertical-align: top;\n",
       "    }\n",
       "\n",
       "    .dataframe thead th {\n",
       "        text-align: right;\n",
       "    }\n",
       "</style>\n",
       "<table border=\"1\" class=\"dataframe\">\n",
       "  <thead>\n",
       "    <tr style=\"text-align: right;\">\n",
       "      <th></th>\n",
       "      <th>Single</th>\n",
       "      <th>Married</th>\n",
       "    </tr>\n",
       "  </thead>\n",
       "  <tbody>\n",
       "    <tr>\n",
       "      <th>Very Unhappy</th>\n",
       "      <td>5</td>\n",
       "      <td>4</td>\n",
       "    </tr>\n",
       "    <tr>\n",
       "      <th>Bit unhappy</th>\n",
       "      <td>4</td>\n",
       "      <td>5</td>\n",
       "    </tr>\n",
       "    <tr>\n",
       "      <th>Neutral</th>\n",
       "      <td>15</td>\n",
       "      <td>15</td>\n",
       "    </tr>\n",
       "    <tr>\n",
       "      <th>bit happy</th>\n",
       "      <td>6</td>\n",
       "      <td>17</td>\n",
       "    </tr>\n",
       "    <tr>\n",
       "      <th>very happy</th>\n",
       "      <td>1</td>\n",
       "      <td>10</td>\n",
       "    </tr>\n",
       "  </tbody>\n",
       "</table>\n",
       "</div>"
      ],
      "text/plain": [
       "              Single  Married\n",
       "Very Unhappy       5        4\n",
       "Bit unhappy        4        5\n",
       "Neutral           15       15\n",
       "bit happy          6       17\n",
       "very happy         1       10"
      ]
     },
     "execution_count": 58,
     "metadata": {},
     "output_type": "execute_result"
    }
   ],
   "source": [
    "df4 = pd.crosstab(df['sat_workingEnvironment'], df['family'])\n",
    "df4.index = ['Very Unhappy', 'Bit unhappy', 'Neutral', 'bit happy', 'very happy']\n",
    "df4.columns = ['Single', 'Married']\n",
    "df4"
   ]
  },
  {
   "cell_type": "code",
   "execution_count": 59,
   "metadata": {},
   "outputs": [
    {
     "data": {
      "text/html": [
       "<div>\n",
       "<style scoped>\n",
       "    .dataframe tbody tr th:only-of-type {\n",
       "        vertical-align: middle;\n",
       "    }\n",
       "\n",
       "    .dataframe tbody tr th {\n",
       "        vertical-align: top;\n",
       "    }\n",
       "\n",
       "    .dataframe thead th {\n",
       "        text-align: right;\n",
       "    }\n",
       "</style>\n",
       "<table border=\"1\" class=\"dataframe\">\n",
       "  <thead>\n",
       "    <tr style=\"text-align: right;\">\n",
       "      <th></th>\n",
       "      <th>Single</th>\n",
       "      <th>Married</th>\n",
       "    </tr>\n",
       "  </thead>\n",
       "  <tbody>\n",
       "    <tr>\n",
       "      <th>Very Unhappy</th>\n",
       "      <td>16.129032</td>\n",
       "      <td>7.843137</td>\n",
       "    </tr>\n",
       "    <tr>\n",
       "      <th>Bit unhappy</th>\n",
       "      <td>12.903226</td>\n",
       "      <td>9.803922</td>\n",
       "    </tr>\n",
       "    <tr>\n",
       "      <th>Neutral</th>\n",
       "      <td>48.387097</td>\n",
       "      <td>29.411765</td>\n",
       "    </tr>\n",
       "    <tr>\n",
       "      <th>bit happy</th>\n",
       "      <td>19.354839</td>\n",
       "      <td>33.333333</td>\n",
       "    </tr>\n",
       "    <tr>\n",
       "      <th>very happy</th>\n",
       "      <td>3.225806</td>\n",
       "      <td>19.607843</td>\n",
       "    </tr>\n",
       "  </tbody>\n",
       "</table>\n",
       "</div>"
      ],
      "text/plain": [
       "                 Single    Married\n",
       "Very Unhappy  16.129032   7.843137\n",
       "Bit unhappy   12.903226   9.803922\n",
       "Neutral       48.387097  29.411765\n",
       "bit happy     19.354839  33.333333\n",
       "very happy     3.225806  19.607843"
      ]
     },
     "execution_count": 59,
     "metadata": {},
     "output_type": "execute_result"
    }
   ],
   "source": [
    "df4 = pd.crosstab(df['sat_workingEnvironment'], df['family'], normalize = 'columns') * 100\n",
    "df4.index = ['Very Unhappy', 'Bit unhappy', 'Neutral', 'bit happy', 'very happy']\n",
    "df4.columns = ['Single', 'Married']\n",
    "df4"
   ]
  },
  {
   "cell_type": "code",
   "execution_count": 60,
   "metadata": {},
   "outputs": [
    {
     "data": {
      "image/png": "[encoded data removed]",
      "text/plain": [
       "<Figure size 640x480 with 1 Axes>"
      ]
     },
     "metadata": {},
     "output_type": "display_data"
    }
   ],
   "source": [
    "df4.plot.barh(legend = 'reverse')\n",
    "\n",
    "plt.xlabel('Percentages for marital status')\n",
    "\n",
    "plt.grid(axis = 'y')"
   ]
  },
  {
   "cell_type": "markdown",
   "metadata": {},
   "source": [
    "## Tutkitaan onko työpaikkatyytyväisyyden ja siviilisäädyn välillä riippuvuuksia"
   ]
  },
  {
   "cell_type": "code",
   "execution_count": 61,
   "metadata": {},
   "outputs": [],
   "source": [
    "df5 = pd.crosstab(df['sat_workingEnvironment'], df['family'])\n",
    "df5.index = ['Very Unhappy', 'Bit unhappy', 'Neutral', 'bit happy', 'very happy']\n",
    "df5.columns = ['Single', 'Married']"
   ]
  },
  {
   "cell_type": "code",
   "execution_count": 62,
   "metadata": {},
   "outputs": [
    {
     "data": {
      "text/plain": [
       "Chi2ContingencyResult(statistic=8.47270716126421, pvalue=0.07571884501720708, dof=4, expected_freq=array([[ 3.40243902,  5.59756098],\n",
       "       [ 3.40243902,  5.59756098],\n",
       "       [11.34146341, 18.65853659],\n",
       "       [ 8.69512195, 14.30487805],\n",
       "       [ 4.15853659,  6.84146341]]))"
      ]
     },
     "execution_count": 62,
     "metadata": {},
     "output_type": "execute_result"
    }
   ],
   "source": [
    "from scipy.stats import chi2_contingency\n",
    "\n",
    "\n",
    "chi2_contingency(df5)"
   ]
  },
  {
   "cell_type": "markdown",
   "metadata": {},
   "source": [
    "## Tulkinta\n",
    "\n",
    "Siviilisäädyn ja työpaikkatyytyväisyyden välillä ei näyttäisi olevan huomattavaa riippuvuutta, koska p-arvo on melko iso, 0.076."
   ]
  },
  {
   "cell_type": "markdown",
   "metadata": {},
   "source": [
    "## Tutkitaan riippuvuuksia palkan ja työpaikkatyytyväisyyden välillä"
   ]
  },
  {
   "cell_type": "code",
   "execution_count": 63,
   "metadata": {},
   "outputs": [
    {
     "data": {
      "text/html": [
       "<div>\n",
       "<style scoped>\n",
       "    .dataframe tbody tr th:only-of-type {\n",
       "        vertical-align: middle;\n",
       "    }\n",
       "\n",
       "    .dataframe tbody tr th {\n",
       "        vertical-align: top;\n",
       "    }\n",
       "\n",
       "    .dataframe thead th {\n",
       "        text-align: right;\n",
       "    }\n",
       "</style>\n",
       "<table border=\"1\" class=\"dataframe\">\n",
       "  <thead>\n",
       "    <tr style=\"text-align: right;\">\n",
       "      <th>salary</th>\n",
       "      <th>1521</th>\n",
       "      <th>1559</th>\n",
       "      <th>1598</th>\n",
       "      <th>1638</th>\n",
       "      <th>1715</th>\n",
       "      <th>1872</th>\n",
       "      <th>1910</th>\n",
       "      <th>1949</th>\n",
       "      <th>1989</th>\n",
       "      <th>2027</th>\n",
       "      <th>...</th>\n",
       "      <th>3119</th>\n",
       "      <th>3393</th>\n",
       "      <th>3470</th>\n",
       "      <th>3510</th>\n",
       "      <th>3587</th>\n",
       "      <th>4446</th>\n",
       "      <th>4874</th>\n",
       "      <th>5069</th>\n",
       "      <th>5225</th>\n",
       "      <th>6278</th>\n",
       "    </tr>\n",
       "  </thead>\n",
       "  <tbody>\n",
       "    <tr>\n",
       "      <th>Very Unhappy</th>\n",
       "      <td>0</td>\n",
       "      <td>0</td>\n",
       "      <td>1</td>\n",
       "      <td>0</td>\n",
       "      <td>0</td>\n",
       "      <td>1</td>\n",
       "      <td>0</td>\n",
       "      <td>1</td>\n",
       "      <td>1</td>\n",
       "      <td>0</td>\n",
       "      <td>...</td>\n",
       "      <td>0</td>\n",
       "      <td>0</td>\n",
       "      <td>0</td>\n",
       "      <td>0</td>\n",
       "      <td>0</td>\n",
       "      <td>0</td>\n",
       "      <td>0</td>\n",
       "      <td>0</td>\n",
       "      <td>0</td>\n",
       "      <td>0</td>\n",
       "    </tr>\n",
       "    <tr>\n",
       "      <th>Bit unhappy</th>\n",
       "      <td>1</td>\n",
       "      <td>0</td>\n",
       "      <td>0</td>\n",
       "      <td>1</td>\n",
       "      <td>0</td>\n",
       "      <td>1</td>\n",
       "      <td>0</td>\n",
       "      <td>0</td>\n",
       "      <td>3</td>\n",
       "      <td>0</td>\n",
       "      <td>...</td>\n",
       "      <td>1</td>\n",
       "      <td>0</td>\n",
       "      <td>0</td>\n",
       "      <td>0</td>\n",
       "      <td>0</td>\n",
       "      <td>0</td>\n",
       "      <td>0</td>\n",
       "      <td>0</td>\n",
       "      <td>0</td>\n",
       "      <td>0</td>\n",
       "    </tr>\n",
       "    <tr>\n",
       "      <th>Neutral</th>\n",
       "      <td>0</td>\n",
       "      <td>2</td>\n",
       "      <td>0</td>\n",
       "      <td>0</td>\n",
       "      <td>1</td>\n",
       "      <td>0</td>\n",
       "      <td>0</td>\n",
       "      <td>1</td>\n",
       "      <td>1</td>\n",
       "      <td>0</td>\n",
       "      <td>...</td>\n",
       "      <td>1</td>\n",
       "      <td>0</td>\n",
       "      <td>0</td>\n",
       "      <td>1</td>\n",
       "      <td>1</td>\n",
       "      <td>1</td>\n",
       "      <td>1</td>\n",
       "      <td>1</td>\n",
       "      <td>0</td>\n",
       "      <td>0</td>\n",
       "    </tr>\n",
       "    <tr>\n",
       "      <th>bit happy</th>\n",
       "      <td>0</td>\n",
       "      <td>0</td>\n",
       "      <td>1</td>\n",
       "      <td>0</td>\n",
       "      <td>0</td>\n",
       "      <td>1</td>\n",
       "      <td>0</td>\n",
       "      <td>1</td>\n",
       "      <td>0</td>\n",
       "      <td>2</td>\n",
       "      <td>...</td>\n",
       "      <td>0</td>\n",
       "      <td>1</td>\n",
       "      <td>0</td>\n",
       "      <td>1</td>\n",
       "      <td>1</td>\n",
       "      <td>0</td>\n",
       "      <td>0</td>\n",
       "      <td>0</td>\n",
       "      <td>0</td>\n",
       "      <td>0</td>\n",
       "    </tr>\n",
       "    <tr>\n",
       "      <th>very happy</th>\n",
       "      <td>0</td>\n",
       "      <td>0</td>\n",
       "      <td>0</td>\n",
       "      <td>0</td>\n",
       "      <td>0</td>\n",
       "      <td>0</td>\n",
       "      <td>1</td>\n",
       "      <td>0</td>\n",
       "      <td>0</td>\n",
       "      <td>1</td>\n",
       "      <td>...</td>\n",
       "      <td>0</td>\n",
       "      <td>0</td>\n",
       "      <td>1</td>\n",
       "      <td>0</td>\n",
       "      <td>0</td>\n",
       "      <td>0</td>\n",
       "      <td>0</td>\n",
       "      <td>0</td>\n",
       "      <td>1</td>\n",
       "      <td>1</td>\n",
       "    </tr>\n",
       "  </tbody>\n",
       "</table>\n",
       "<p>5 rows × 42 columns</p>\n",
       "</div>"
      ],
      "text/plain": [
       "salary        1521  1559  1598  1638  1715  1872  1910  1949  1989  2027  ...  \\\n",
       "Very Unhappy     0     0     1     0     0     1     0     1     1     0  ...   \n",
       "Bit unhappy      1     0     0     1     0     1     0     0     3     0  ...   \n",
       "Neutral          0     2     0     0     1     0     0     1     1     0  ...   \n",
       "bit happy        0     0     1     0     0     1     0     1     0     2  ...   \n",
       "very happy       0     0     0     0     0     0     1     0     0     1  ...   \n",
       "\n",
       "salary        3119  3393  3470  3510  3587  4446  4874  5069  5225  6278  \n",
       "Very Unhappy     0     0     0     0     0     0     0     0     0     0  \n",
       "Bit unhappy      1     0     0     0     0     0     0     0     0     0  \n",
       "Neutral          1     0     0     1     1     1     1     1     0     0  \n",
       "bit happy        0     1     0     1     1     0     0     0     0     0  \n",
       "very happy       0     0     1     0     0     0     0     0     1     1  \n",
       "\n",
       "[5 rows x 42 columns]"
      ]
     },
     "execution_count": 63,
     "metadata": {},
     "output_type": "execute_result"
    }
   ],
   "source": [
    "df8 = pd.crosstab(df['sat_workingEnvironment'], df['salary'])\n",
    "df8.index = ['Very Unhappy', 'Bit unhappy', 'Neutral', 'bit happy', 'very happy']\n",
    "df8"
   ]
  },
  {
   "cell_type": "code",
   "execution_count": 64,
   "metadata": {},
   "outputs": [
    {
     "data": {
      "text/html": [
       "<div>\n",
       "<style scoped>\n",
       "    .dataframe tbody tr th:only-of-type {\n",
       "        vertical-align: middle;\n",
       "    }\n",
       "\n",
       "    .dataframe tbody tr th {\n",
       "        vertical-align: top;\n",
       "    }\n",
       "\n",
       "    .dataframe thead th {\n",
       "        text-align: right;\n",
       "    }\n",
       "</style>\n",
       "<table border=\"1\" class=\"dataframe\">\n",
       "  <thead>\n",
       "    <tr style=\"text-align: right;\">\n",
       "      <th></th>\n",
       "      <th>Very Unhappy</th>\n",
       "      <th>Bit unhappy</th>\n",
       "      <th>Neutral</th>\n",
       "      <th>bit happy</th>\n",
       "      <th>very happy</th>\n",
       "    </tr>\n",
       "    <tr>\n",
       "      <th>salary</th>\n",
       "      <th></th>\n",
       "      <th></th>\n",
       "      <th></th>\n",
       "      <th></th>\n",
       "      <th></th>\n",
       "    </tr>\n",
       "  </thead>\n",
       "  <tbody>\n",
       "    <tr>\n",
       "      <th>1521</th>\n",
       "      <td>0</td>\n",
       "      <td>1</td>\n",
       "      <td>0</td>\n",
       "      <td>0</td>\n",
       "      <td>0</td>\n",
       "    </tr>\n",
       "    <tr>\n",
       "      <th>1559</th>\n",
       "      <td>0</td>\n",
       "      <td>0</td>\n",
       "      <td>2</td>\n",
       "      <td>0</td>\n",
       "      <td>0</td>\n",
       "    </tr>\n",
       "    <tr>\n",
       "      <th>1598</th>\n",
       "      <td>1</td>\n",
       "      <td>0</td>\n",
       "      <td>0</td>\n",
       "      <td>1</td>\n",
       "      <td>0</td>\n",
       "    </tr>\n",
       "    <tr>\n",
       "      <th>1638</th>\n",
       "      <td>0</td>\n",
       "      <td>1</td>\n",
       "      <td>0</td>\n",
       "      <td>0</td>\n",
       "      <td>0</td>\n",
       "    </tr>\n",
       "    <tr>\n",
       "      <th>1715</th>\n",
       "      <td>0</td>\n",
       "      <td>0</td>\n",
       "      <td>1</td>\n",
       "      <td>0</td>\n",
       "      <td>0</td>\n",
       "    </tr>\n",
       "    <tr>\n",
       "      <th>1872</th>\n",
       "      <td>1</td>\n",
       "      <td>1</td>\n",
       "      <td>0</td>\n",
       "      <td>1</td>\n",
       "      <td>0</td>\n",
       "    </tr>\n",
       "    <tr>\n",
       "      <th>1910</th>\n",
       "      <td>0</td>\n",
       "      <td>0</td>\n",
       "      <td>0</td>\n",
       "      <td>0</td>\n",
       "      <td>1</td>\n",
       "    </tr>\n",
       "    <tr>\n",
       "      <th>1949</th>\n",
       "      <td>1</td>\n",
       "      <td>0</td>\n",
       "      <td>1</td>\n",
       "      <td>1</td>\n",
       "      <td>0</td>\n",
       "    </tr>\n",
       "    <tr>\n",
       "      <th>1989</th>\n",
       "      <td>1</td>\n",
       "      <td>3</td>\n",
       "      <td>1</td>\n",
       "      <td>0</td>\n",
       "      <td>0</td>\n",
       "    </tr>\n",
       "    <tr>\n",
       "      <th>2027</th>\n",
       "      <td>0</td>\n",
       "      <td>0</td>\n",
       "      <td>0</td>\n",
       "      <td>2</td>\n",
       "      <td>1</td>\n",
       "    </tr>\n",
       "    <tr>\n",
       "      <th>2066</th>\n",
       "      <td>0</td>\n",
       "      <td>0</td>\n",
       "      <td>1</td>\n",
       "      <td>1</td>\n",
       "      <td>0</td>\n",
       "    </tr>\n",
       "    <tr>\n",
       "      <th>2106</th>\n",
       "      <td>1</td>\n",
       "      <td>0</td>\n",
       "      <td>0</td>\n",
       "      <td>1</td>\n",
       "      <td>1</td>\n",
       "    </tr>\n",
       "    <tr>\n",
       "      <th>2144</th>\n",
       "      <td>0</td>\n",
       "      <td>0</td>\n",
       "      <td>2</td>\n",
       "      <td>1</td>\n",
       "      <td>0</td>\n",
       "    </tr>\n",
       "    <tr>\n",
       "      <th>2183</th>\n",
       "      <td>2</td>\n",
       "      <td>1</td>\n",
       "      <td>1</td>\n",
       "      <td>2</td>\n",
       "      <td>0</td>\n",
       "    </tr>\n",
       "    <tr>\n",
       "      <th>2223</th>\n",
       "      <td>0</td>\n",
       "      <td>0</td>\n",
       "      <td>1</td>\n",
       "      <td>1</td>\n",
       "      <td>0</td>\n",
       "    </tr>\n",
       "    <tr>\n",
       "      <th>2261</th>\n",
       "      <td>0</td>\n",
       "      <td>0</td>\n",
       "      <td>1</td>\n",
       "      <td>0</td>\n",
       "      <td>1</td>\n",
       "    </tr>\n",
       "    <tr>\n",
       "      <th>2300</th>\n",
       "      <td>0</td>\n",
       "      <td>0</td>\n",
       "      <td>1</td>\n",
       "      <td>0</td>\n",
       "      <td>0</td>\n",
       "    </tr>\n",
       "    <tr>\n",
       "      <th>2340</th>\n",
       "      <td>0</td>\n",
       "      <td>0</td>\n",
       "      <td>2</td>\n",
       "      <td>0</td>\n",
       "      <td>0</td>\n",
       "    </tr>\n",
       "    <tr>\n",
       "      <th>2417</th>\n",
       "      <td>0</td>\n",
       "      <td>0</td>\n",
       "      <td>1</td>\n",
       "      <td>1</td>\n",
       "      <td>0</td>\n",
       "    </tr>\n",
       "    <tr>\n",
       "      <th>2457</th>\n",
       "      <td>0</td>\n",
       "      <td>0</td>\n",
       "      <td>0</td>\n",
       "      <td>1</td>\n",
       "      <td>0</td>\n",
       "    </tr>\n",
       "    <tr>\n",
       "      <th>2495</th>\n",
       "      <td>0</td>\n",
       "      <td>0</td>\n",
       "      <td>0</td>\n",
       "      <td>0</td>\n",
       "      <td>1</td>\n",
       "    </tr>\n",
       "    <tr>\n",
       "      <th>2534</th>\n",
       "      <td>0</td>\n",
       "      <td>0</td>\n",
       "      <td>1</td>\n",
       "      <td>0</td>\n",
       "      <td>0</td>\n",
       "    </tr>\n",
       "    <tr>\n",
       "      <th>2574</th>\n",
       "      <td>1</td>\n",
       "      <td>0</td>\n",
       "      <td>0</td>\n",
       "      <td>0</td>\n",
       "      <td>0</td>\n",
       "    </tr>\n",
       "    <tr>\n",
       "      <th>2612</th>\n",
       "      <td>0</td>\n",
       "      <td>0</td>\n",
       "      <td>1</td>\n",
       "      <td>0</td>\n",
       "      <td>0</td>\n",
       "    </tr>\n",
       "    <tr>\n",
       "      <th>2651</th>\n",
       "      <td>0</td>\n",
       "      <td>0</td>\n",
       "      <td>1</td>\n",
       "      <td>1</td>\n",
       "      <td>0</td>\n",
       "    </tr>\n",
       "    <tr>\n",
       "      <th>2691</th>\n",
       "      <td>0</td>\n",
       "      <td>0</td>\n",
       "      <td>1</td>\n",
       "      <td>0</td>\n",
       "      <td>2</td>\n",
       "    </tr>\n",
       "    <tr>\n",
       "      <th>2729</th>\n",
       "      <td>0</td>\n",
       "      <td>0</td>\n",
       "      <td>1</td>\n",
       "      <td>1</td>\n",
       "      <td>1</td>\n",
       "    </tr>\n",
       "    <tr>\n",
       "      <th>2768</th>\n",
       "      <td>0</td>\n",
       "      <td>0</td>\n",
       "      <td>0</td>\n",
       "      <td>1</td>\n",
       "      <td>0</td>\n",
       "    </tr>\n",
       "    <tr>\n",
       "      <th>2808</th>\n",
       "      <td>0</td>\n",
       "      <td>0</td>\n",
       "      <td>3</td>\n",
       "      <td>0</td>\n",
       "      <td>0</td>\n",
       "    </tr>\n",
       "    <tr>\n",
       "      <th>2846</th>\n",
       "      <td>1</td>\n",
       "      <td>0</td>\n",
       "      <td>1</td>\n",
       "      <td>1</td>\n",
       "      <td>0</td>\n",
       "    </tr>\n",
       "    <tr>\n",
       "      <th>2925</th>\n",
       "      <td>0</td>\n",
       "      <td>0</td>\n",
       "      <td>0</td>\n",
       "      <td>3</td>\n",
       "      <td>0</td>\n",
       "    </tr>\n",
       "    <tr>\n",
       "      <th>2963</th>\n",
       "      <td>0</td>\n",
       "      <td>1</td>\n",
       "      <td>0</td>\n",
       "      <td>0</td>\n",
       "      <td>0</td>\n",
       "    </tr>\n",
       "    <tr>\n",
       "      <th>3119</th>\n",
       "      <td>0</td>\n",
       "      <td>1</td>\n",
       "      <td>1</td>\n",
       "      <td>0</td>\n",
       "      <td>0</td>\n",
       "    </tr>\n",
       "    <tr>\n",
       "      <th>3393</th>\n",
       "      <td>0</td>\n",
       "      <td>0</td>\n",
       "      <td>0</td>\n",
       "      <td>1</td>\n",
       "      <td>0</td>\n",
       "    </tr>\n",
       "    <tr>\n",
       "      <th>3470</th>\n",
       "      <td>0</td>\n",
       "      <td>0</td>\n",
       "      <td>0</td>\n",
       "      <td>0</td>\n",
       "      <td>1</td>\n",
       "    </tr>\n",
       "    <tr>\n",
       "      <th>3510</th>\n",
       "      <td>0</td>\n",
       "      <td>0</td>\n",
       "      <td>1</td>\n",
       "      <td>1</td>\n",
       "      <td>0</td>\n",
       "    </tr>\n",
       "    <tr>\n",
       "      <th>3587</th>\n",
       "      <td>0</td>\n",
       "      <td>0</td>\n",
       "      <td>1</td>\n",
       "      <td>1</td>\n",
       "      <td>0</td>\n",
       "    </tr>\n",
       "    <tr>\n",
       "      <th>4446</th>\n",
       "      <td>0</td>\n",
       "      <td>0</td>\n",
       "      <td>1</td>\n",
       "      <td>0</td>\n",
       "      <td>0</td>\n",
       "    </tr>\n",
       "    <tr>\n",
       "      <th>4874</th>\n",
       "      <td>0</td>\n",
       "      <td>0</td>\n",
       "      <td>1</td>\n",
       "      <td>0</td>\n",
       "      <td>0</td>\n",
       "    </tr>\n",
       "    <tr>\n",
       "      <th>5069</th>\n",
       "      <td>0</td>\n",
       "      <td>0</td>\n",
       "      <td>1</td>\n",
       "      <td>0</td>\n",
       "      <td>0</td>\n",
       "    </tr>\n",
       "    <tr>\n",
       "      <th>5225</th>\n",
       "      <td>0</td>\n",
       "      <td>0</td>\n",
       "      <td>0</td>\n",
       "      <td>0</td>\n",
       "      <td>1</td>\n",
       "    </tr>\n",
       "    <tr>\n",
       "      <th>6278</th>\n",
       "      <td>0</td>\n",
       "      <td>0</td>\n",
       "      <td>0</td>\n",
       "      <td>0</td>\n",
       "      <td>1</td>\n",
       "    </tr>\n",
       "  </tbody>\n",
       "</table>\n",
       "</div>"
      ],
      "text/plain": [
       "        Very Unhappy  Bit unhappy  Neutral  bit happy  very happy\n",
       "salary                                                           \n",
       "1521               0            1        0          0           0\n",
       "1559               0            0        2          0           0\n",
       "1598               1            0        0          1           0\n",
       "1638               0            1        0          0           0\n",
       "1715               0            0        1          0           0\n",
       "1872               1            1        0          1           0\n",
       "1910               0            0        0          0           1\n",
       "1949               1            0        1          1           0\n",
       "1989               1            3        1          0           0\n",
       "2027               0            0        0          2           1\n",
       "2066               0            0        1          1           0\n",
       "2106               1            0        0          1           1\n",
       "2144               0            0        2          1           0\n",
       "2183               2            1        1          2           0\n",
       "2223               0            0        1          1           0\n",
       "2261               0            0        1          0           1\n",
       "2300               0            0        1          0           0\n",
       "2340               0            0        2          0           0\n",
       "2417               0            0        1          1           0\n",
       "2457               0            0        0          1           0\n",
       "2495               0            0        0          0           1\n",
       "2534               0            0        1          0           0\n",
       "2574               1            0        0          0           0\n",
       "2612               0            0        1          0           0\n",
       "2651               0            0        1          1           0\n",
       "2691               0            0        1          0           2\n",
       "2729               0            0        1          1           1\n",
       "2768               0            0        0          1           0\n",
       "2808               0            0        3          0           0\n",
       "2846               1            0        1          1           0\n",
       "2925               0            0        0          3           0\n",
       "2963               0            1        0          0           0\n",
       "3119               0            1        1          0           0\n",
       "3393               0            0        0          1           0\n",
       "3470               0            0        0          0           1\n",
       "3510               0            0        1          1           0\n",
       "3587               0            0        1          1           0\n",
       "4446               0            0        1          0           0\n",
       "4874               0            0        1          0           0\n",
       "5069               0            0        1          0           0\n",
       "5225               0            0        0          0           1\n",
       "6278               0            0        0          0           1"
      ]
     },
     "execution_count": 64,
     "metadata": {},
     "output_type": "execute_result"
    }
   ],
   "source": [
    "df8 = pd.crosstab(df['salary'], df['sat_workingEnvironment'])\n",
    "df8.columns = ['Very Unhappy', 'Bit unhappy', 'Neutral', 'bit happy', 'very happy']\n",
    "df8"
   ]
  },
  {
   "cell_type": "markdown",
   "metadata": {},
   "source": [
    "Seuraavat testit saattaa vaatia ajamista kahteen kertaan, en tiedä miksei taulukot tule ekalla kertaa näkyviin. Välillä ne saattaa myös heittää erroria, mutta kun ajaa uusiksi nii toimii."
   ]
  },
  {
   "cell_type": "code",
   "execution_count": 66,
   "metadata": {},
   "outputs": [
    {
     "data": {
      "text/html": [
       "<div>\n",
       "<style scoped>\n",
       "    .dataframe tbody tr th:only-of-type {\n",
       "        vertical-align: middle;\n",
       "    }\n",
       "\n",
       "    .dataframe tbody tr th {\n",
       "        vertical-align: top;\n",
       "    }\n",
       "\n",
       "    .dataframe thead th {\n",
       "        text-align: right;\n",
       "    }\n",
       "</style>\n",
       "<table border=\"1\" class=\"dataframe\">\n",
       "  <thead>\n",
       "    <tr style=\"text-align: right;\">\n",
       "      <th></th>\n",
       "      <th>Very Unhappy</th>\n",
       "      <th>Bit unhappy</th>\n",
       "      <th>Neutral</th>\n",
       "      <th>bit happy</th>\n",
       "      <th>very happy</th>\n",
       "    </tr>\n",
       "    <tr>\n",
       "      <th>tulot</th>\n",
       "      <th></th>\n",
       "      <th></th>\n",
       "      <th></th>\n",
       "      <th></th>\n",
       "      <th></th>\n",
       "    </tr>\n",
       "  </thead>\n",
       "  <tbody>\n",
       "    <tr>\n",
       "      <th>(1500, 2000]</th>\n",
       "      <td>4</td>\n",
       "      <td>6</td>\n",
       "      <td>5</td>\n",
       "      <td>3</td>\n",
       "      <td>1</td>\n",
       "    </tr>\n",
       "    <tr>\n",
       "      <th>(2000, 2500]</th>\n",
       "      <td>3</td>\n",
       "      <td>1</td>\n",
       "      <td>10</td>\n",
       "      <td>10</td>\n",
       "      <td>4</td>\n",
       "    </tr>\n",
       "    <tr>\n",
       "      <th>(2500, 3000]</th>\n",
       "      <td>2</td>\n",
       "      <td>1</td>\n",
       "      <td>9</td>\n",
       "      <td>7</td>\n",
       "      <td>3</td>\n",
       "    </tr>\n",
       "    <tr>\n",
       "      <th>(3000, 3500]</th>\n",
       "      <td>0</td>\n",
       "      <td>1</td>\n",
       "      <td>1</td>\n",
       "      <td>1</td>\n",
       "      <td>1</td>\n",
       "    </tr>\n",
       "  </tbody>\n",
       "</table>\n",
       "</div>"
      ],
      "text/plain": [
       "              Very Unhappy  Bit unhappy  Neutral  bit happy  very happy\n",
       "tulot                                                                  \n",
       "(1500, 2000]             4            6        5          3           1\n",
       "(2000, 2500]             3            1       10         10           4\n",
       "(2500, 3000]             2            1        9          7           3\n",
       "(3000, 3500]             0            1        1          1           1"
      ]
     },
     "execution_count": 66,
     "metadata": {},
     "output_type": "execute_result"
    }
   ],
   "source": [
    "bins = [1500, 2000, 2500, 3000, 3500, 4000, 7000]\n",
    "df8['tulot'] = pd.cut(df['salary'], bins = bins)\n",
    "df8 = pd.crosstab(df8['tulot'], df['sat_workingEnvironment'])\n",
    "df8.columns = ['Very Unhappy', 'Bit unhappy', 'Neutral', 'bit happy', 'very happy']\n",
    "df8.columns.name = ''\n",
    "\n",
    "df8[0:4]"
   ]
  },
  {
   "cell_type": "code",
   "execution_count": 68,
   "metadata": {},
   "outputs": [
    {
     "data": {
      "text/html": [
       "<div>\n",
       "<style scoped>\n",
       "    .dataframe tbody tr th:only-of-type {\n",
       "        vertical-align: middle;\n",
       "    }\n",
       "\n",
       "    .dataframe tbody tr th {\n",
       "        vertical-align: top;\n",
       "    }\n",
       "\n",
       "    .dataframe thead th {\n",
       "        text-align: right;\n",
       "    }\n",
       "</style>\n",
       "<table border=\"1\" class=\"dataframe\">\n",
       "  <thead>\n",
       "    <tr style=\"text-align: right;\">\n",
       "      <th></th>\n",
       "      <th>Very Unhappy</th>\n",
       "      <th>Bit unhappy</th>\n",
       "      <th>Neutral</th>\n",
       "      <th>bit happy</th>\n",
       "      <th>very happy</th>\n",
       "    </tr>\n",
       "    <tr>\n",
       "      <th>tulot</th>\n",
       "      <th></th>\n",
       "      <th></th>\n",
       "      <th></th>\n",
       "      <th></th>\n",
       "      <th></th>\n",
       "    </tr>\n",
       "  </thead>\n",
       "  <tbody>\n",
       "    <tr>\n",
       "      <th>(1500, 2000]</th>\n",
       "      <td>4</td>\n",
       "      <td>6</td>\n",
       "      <td>5</td>\n",
       "      <td>3</td>\n",
       "      <td>1</td>\n",
       "    </tr>\n",
       "    <tr>\n",
       "      <th>(2000, 2500]</th>\n",
       "      <td>3</td>\n",
       "      <td>1</td>\n",
       "      <td>10</td>\n",
       "      <td>10</td>\n",
       "      <td>4</td>\n",
       "    </tr>\n",
       "    <tr>\n",
       "      <th>(2500, 3000]</th>\n",
       "      <td>2</td>\n",
       "      <td>1</td>\n",
       "      <td>9</td>\n",
       "      <td>7</td>\n",
       "      <td>3</td>\n",
       "    </tr>\n",
       "    <tr>\n",
       "      <th>(3000, 3500]</th>\n",
       "      <td>0</td>\n",
       "      <td>1</td>\n",
       "      <td>1</td>\n",
       "      <td>1</td>\n",
       "      <td>1</td>\n",
       "    </tr>\n",
       "    <tr>\n",
       "      <th>(3500, 4000]</th>\n",
       "      <td>0</td>\n",
       "      <td>0</td>\n",
       "      <td>2</td>\n",
       "      <td>2</td>\n",
       "      <td>0</td>\n",
       "    </tr>\n",
       "    <tr>\n",
       "      <th>(4000, 7000]</th>\n",
       "      <td>0</td>\n",
       "      <td>0</td>\n",
       "      <td>3</td>\n",
       "      <td>0</td>\n",
       "      <td>2</td>\n",
       "    </tr>\n",
       "  </tbody>\n",
       "</table>\n",
       "</div>"
      ],
      "text/plain": [
       "              Very Unhappy  Bit unhappy  Neutral  bit happy  very happy\n",
       "tulot                                                                  \n",
       "(1500, 2000]             4            6        5          3           1\n",
       "(2000, 2500]             3            1       10         10           4\n",
       "(2500, 3000]             2            1        9          7           3\n",
       "(3000, 3500]             0            1        1          1           1\n",
       "(3500, 4000]             0            0        2          2           0\n",
       "(4000, 7000]             0            0        3          0           2"
      ]
     },
     "execution_count": 68,
     "metadata": {},
     "output_type": "execute_result"
    }
   ],
   "source": [
    "bins = [1500, 2000, 2500, 3000, 3500, 4000, 7000]\n",
    "df8['tulot'] = pd.cut(df['salary'], bins = bins)\n",
    "df8 = pd.crosstab(df8['tulot'], df['sat_workingEnvironment'])\n",
    "df8.columns = ['Very Unhappy', 'Bit unhappy', 'Neutral', 'bit happy', 'very happy']\n",
    "df8.columns.name = ''\n",
    "\n",
    "df8"
   ]
  },
  {
   "cell_type": "markdown",
   "metadata": {},
   "source": [
    "## Tulkinta"
   ]
  },
  {
   "cell_type": "code",
   "execution_count": 70,
   "metadata": {},
   "outputs": [],
   "source": [
    "df9 = pd.crosstab(df['sat_workingEnvironment'], df['salary'])\n",
    "df9.index = ['Very Unhappy', 'Bit unhappy', 'Neutral', 'bit happy', 'very happy']"
   ]
  },
  {
   "cell_type": "code",
   "execution_count": 71,
   "metadata": {},
   "outputs": [
    {
     "data": {
      "text/plain": [
       "Chi2ContingencyResult(statistic=168.57104084321477, pvalue=0.3871240830349686, dof=164, expected_freq=array([[0.1097561 , 0.2195122 , 0.2195122 , 0.1097561 , 0.1097561 ,\n",
       "        0.32926829, 0.1097561 , 0.32926829, 0.54878049, 0.32926829,\n",
       "        0.2195122 , 0.32926829, 0.32926829, 0.65853659, 0.2195122 ,\n",
       "        0.2195122 , 0.1097561 , 0.2195122 , 0.2195122 , 0.1097561 ,\n",
       "        0.1097561 , 0.1097561 , 0.1097561 , 0.1097561 , 0.2195122 ,\n",
       "        0.32926829, 0.32926829, 0.1097561 , 0.32926829, 0.32926829,\n",
       "        0.32926829, 0.1097561 , 0.2195122 , 0.1097561 , 0.1097561 ,\n",
       "        0.2195122 , 0.2195122 , 0.1097561 , 0.1097561 , 0.1097561 ,\n",
       "        0.1097561 , 0.1097561 ],\n",
       "       [0.1097561 , 0.2195122 , 0.2195122 , 0.1097561 , 0.1097561 ,\n",
       "        0.32926829, 0.1097561 , 0.32926829, 0.54878049, 0.32926829,\n",
       "        0.2195122 , 0.32926829, 0.32926829, 0.65853659, 0.2195122 ,\n",
       "        0.2195122 , 0.1097561 , 0.2195122 , 0.2195122 , 0.1097561 ,\n",
       "        0.1097561 , 0.1097561 , 0.1097561 , 0.1097561 , 0.2195122 ,\n",
       "        0.32926829, 0.32926829, 0.1097561 , 0.32926829, 0.32926829,\n",
       "        0.32926829, 0.1097561 , 0.2195122 , 0.1097561 , 0.1097561 ,\n",
       "        0.2195122 , 0.2195122 , 0.1097561 , 0.1097561 , 0.1097561 ,\n",
       "        0.1097561 , 0.1097561 ],\n",
       "       [0.36585366, 0.73170732, 0.73170732, 0.36585366, 0.36585366,\n",
       "        1.09756098, 0.36585366, 1.09756098, 1.82926829, 1.09756098,\n",
       "        0.73170732, 1.09756098, 1.09756098, 2.19512195, 0.73170732,\n",
       "        0.73170732, 0.36585366, 0.73170732, 0.73170732, 0.36585366,\n",
       "        0.36585366, 0.36585366, 0.36585366, 0.36585366, 0.73170732,\n",
       "        1.09756098, 1.09756098, 0.36585366, 1.09756098, 1.09756098,\n",
       "        1.09756098, 0.36585366, 0.73170732, 0.36585366, 0.36585366,\n",
       "        0.73170732, 0.73170732, 0.36585366, 0.36585366, 0.36585366,\n",
       "        0.36585366, 0.36585366],\n",
       "       [0.2804878 , 0.56097561, 0.56097561, 0.2804878 , 0.2804878 ,\n",
       "        0.84146341, 0.2804878 , 0.84146341, 1.40243902, 0.84146341,\n",
       "        0.56097561, 0.84146341, 0.84146341, 1.68292683, 0.56097561,\n",
       "        0.56097561, 0.2804878 , 0.56097561, 0.56097561, 0.2804878 ,\n",
       "        0.2804878 , 0.2804878 , 0.2804878 , 0.2804878 , 0.56097561,\n",
       "        0.84146341, 0.84146341, 0.2804878 , 0.84146341, 0.84146341,\n",
       "        0.84146341, 0.2804878 , 0.56097561, 0.2804878 , 0.2804878 ,\n",
       "        0.56097561, 0.56097561, 0.2804878 , 0.2804878 , 0.2804878 ,\n",
       "        0.2804878 , 0.2804878 ],\n",
       "       [0.13414634, 0.26829268, 0.26829268, 0.13414634, 0.13414634,\n",
       "        0.40243902, 0.13414634, 0.40243902, 0.67073171, 0.40243902,\n",
       "        0.26829268, 0.40243902, 0.40243902, 0.80487805, 0.26829268,\n",
       "        0.26829268, 0.13414634, 0.26829268, 0.26829268, 0.13414634,\n",
       "        0.13414634, 0.13414634, 0.13414634, 0.13414634, 0.26829268,\n",
       "        0.40243902, 0.40243902, 0.13414634, 0.40243902, 0.40243902,\n",
       "        0.40243902, 0.13414634, 0.26829268, 0.13414634, 0.13414634,\n",
       "        0.26829268, 0.26829268, 0.13414634, 0.13414634, 0.13414634,\n",
       "        0.13414634, 0.13414634]]))"
      ]
     },
     "execution_count": 71,
     "metadata": {},
     "output_type": "execute_result"
    }
   ],
   "source": [
    "from scipy.stats import chi2_contingency\n",
    "\n",
    "\n",
    "chi2_contingency(df9)"
   ]
  },
  {
   "cell_type": "markdown",
   "metadata": {},
   "source": [
    "Työpaikkatyytyväisyyden ja palkan välillä vaikuttaisi olevan mitätön riippuvuus.\n",
    "p-arvo 0.39 kertoo, että siellä olisi pieni riippuvuus, mutta tällä data määrällä riippuvuutta ei voi varmaksi sanoa"
   ]
  },
  {
   "cell_type": "markdown",
   "metadata": {},
   "source": [
    "## Kolmio testi!"
   ]
  },
  {
   "cell_type": "code",
   "execution_count": 1,
   "metadata": {},
   "outputs": [],
   "source": [
    "%matplotlib widget  \n",
    "\n",
    "import matplotlib.pyplot as plt\n",
    "import random\n",
    "import numpy as np\n",
    "\n",
    "def calculate_points(n=100, n_vertices=3):\n",
    "\n",
    "    x_points=[0]\n",
    "    y_points=[0]\n",
    "    \n",
    "    x_vertices=[np.sin((2*k*np.pi)/n_vertices) for k in range(0,n_vertices)]\n",
    "    y_vertices=[np.cos((2*k*np.pi)/n_vertices) for k in range(0,n_vertices)]\n",
    "    \n",
    "    for item in range(0,n):\n",
    "        r=random.randint(1, n_vertices)-1\n",
    "        x_points.append((x_vertices[r]+x_points[-1])/2)\n",
    "        y_points.append((y_vertices[r]+y_points[-1])/2)\n",
    "\n",
    "    plt.figure(figsize=(6, 6))\n",
    "    plt.axis('equal')\n",
    "    plt.scatter(x_points, y_points, color='k', s=.001);\n",
    "    plt.show()"
   ]
  },
  {
   "cell_type": "code",
   "execution_count": 2,
   "metadata": {},
   "outputs": [
    {
     "data": {
      "application/vnd.jupyter.widget-view+json": {
       "model_id": "969c4203984a4f69a1c4bc6bdfb52111",
       "version_major": 2,
       "version_minor": 0
      },
      "image/png": "[encoded data removed]",
      "text/html": [
       "\n",
       "            <div style=\"display: inline-block;\">\n",
       "                <div class=\"jupyter-widgets widget-label\" style=\"text-align: center;\">\n",
       "                    Figure\n",
       "                </div>\n",
       "                <img src='data:image/png;base64,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' width=600.0/>\n",
       "            </div>\n",
       "        "
      ],
      "text/plain": [
       "Canvas(toolbar=Toolbar(toolitems=[('Home', 'Reset original view', 'home', 'home'), ('Back', 'Back to previous …"
      ]
     },
     "metadata": {},
     "output_type": "display_data"
    }
   ],
   "source": [
    "calculate_points(n=1000000, n_vertices=3);"
   ]
  },
  {
   "cell_type": "markdown",
   "metadata": {},
   "source": [
    "## List Comprehension\n",
    "\n",
    "List comprehension mahdollistaa listojen käsittelyn ilman for looppia.\n",
    "Jos haluat listasta tiettyjä tuloksia, list comprehensionin avulla sen voi tehdä lyhyesti. Toinen tapa olisi käyttää for looppia, joka tuo lisää turhaa koodia ja täten tekee koodin lukemisesta vaikeampaa."
   ]
  },
  {
   "cell_type": "code",
   "execution_count": 3,
   "metadata": {},
   "outputs": [],
   "source": [
    "nimet = ['Jari', 'Jali', 'Timo', 'Tommi', 'Tomi', 'Iivari', 'Ilmari', 'Eeva', 'Aleksi', 'Matti', 'Minna']"
   ]
  },
  {
   "cell_type": "code",
   "execution_count": 6,
   "metadata": {},
   "outputs": [
    {
     "name": "stdout",
     "output_type": "stream",
     "text": [
      "['Jari', 'Jali']\n"
     ]
    }
   ],
   "source": [
    "#For loopilla\n",
    "newlist = []\n",
    "for x in nimet:\n",
    "    if 'J' in x:\n",
    "     newlist.append(x)\n",
    "\n",
    "print(newlist)"
   ]
  },
  {
   "cell_type": "code",
   "execution_count": 7,
   "metadata": {},
   "outputs": [
    {
     "name": "stdout",
     "output_type": "stream",
     "text": [
      "['Jari', 'Jali']\n"
     ]
    }
   ],
   "source": [
    "#List comprehensionilla\n",
    "\n",
    "newlist=[x for x in nimet if 'J' in x]\n",
    "\n",
    "print(newlist)"
   ]
  },
  {
   "cell_type": "code",
   "execution_count": 10,
   "metadata": {},
   "outputs": [
    {
     "name": "stdout",
     "output_type": "stream",
     "text": [
      "['Jari', 'Jali', 'Timo', 'Tommi', 'Tomi', 'Iivari', 'Ilmari', 'Eeva', 'Matti', 'Minna']\n"
     ]
    }
   ],
   "source": [
    "#List comprehensionilla on myös helppo jättää tiettyjä elementtejä pois\n",
    "# != 'Aleksi' jättää vain Aleksin pois ja printtaa muut nimet\n",
    "\n",
    "newlist = [x for x in nimet if x != 'Aleksi']\n",
    "\n",
    "print(newlist)"
   ]
  },
  {
   "cell_type": "code",
   "execution_count": 12,
   "metadata": {},
   "outputs": [
    {
     "name": "stdout",
     "output_type": "stream",
     "text": [
      "['jari', 'jali', 'timo', 'tommi', 'tomi', 'iivari', 'ilmari', 'eeva', 'aleksi', 'matti', 'minna']\n"
     ]
    }
   ],
   "source": [
    "#List comprehensionilla voi myös muokkailla listassa olevia arvoja.\n",
    "#Tässä tapauksessa vaihdoin kaikki nimet pienellä alkaviksi. \n",
    "\n",
    "newlist = [x.lower() for x in nimet]\n",
    "\n",
    "print(newlist)"
   ]
  },
  {
   "cell_type": "code",
   "execution_count": 14,
   "metadata": {},
   "outputs": [
    {
     "name": "stdout",
     "output_type": "stream",
     "text": [
      "[0, 1, 2, 3, 4, 5, 6, 7]\n",
      "[0, 1, 2]\n"
     ]
    }
   ],
   "source": [
    "#Iterable en tiedä tarkalleen mitä tarkoitetaan, mutta sillä voi ainakin luoda helposti numero listoja.\n",
    "\n",
    "newlist = [x for x in range(8)]\n",
    "\n",
    "print(newlist)\n",
    "\n",
    "numerolista = [x for x in range(8) if x < 3]\n",
    "\n",
    "print(numerolista)"
   ]
  },
  {
   "cell_type": "markdown",
   "metadata": {},
   "source": [
    "## Keyword arguments\n",
    "\n",
    "Kun puhutaan datan käsittelystä nii keyword argumentit auttavat eniten for loopissa olevien listojen printtaamisessa. Oletuksena kun printtaat listan nii jokainen kappale tulee omalle rivilleen. Jos for loopissa oleva listasi on pitkä niiden lukeminen hankaloituu. Mutta käyttämällä keywordia voit itse päättää miten listan kappaleet erotellaan toisistaan kun printtaat ne ulos.\n",
    "\n",
    "Jos printtaat arvoja, voit myös päättää kuinka haluat erotella ne toisistaan käyttämällä keywordia.\n",
    "\n",
    "Isoin apu keywordeissa on methodien argumentit. Jos sinulla on methodi joka hyväksyy argumentteja ja printtaa ne, voit methodia kutsuessa syöttää niille argumenteille arvot ja järjestyksellä ei ole väliä, toisin kuin positional argumenttejen kanssa."
   ]
  },
  {
   "cell_type": "code",
   "execution_count": 74,
   "metadata": {},
   "outputs": [
    {
     "name": "stdout",
     "output_type": "stream",
     "text": [
      "1\n",
      "2\n",
      "3\n",
      "4\n",
      "5\n",
      "6\n",
      "7\n",
      "8\n",
      "9\n",
      "10\n"
     ]
    }
   ],
   "source": [
    "for x in range(1, 11):\n",
    "    print(x)"
   ]
  },
  {
   "cell_type": "code",
   "execution_count": 75,
   "metadata": {},
   "outputs": [
    {
     "name": "stdout",
     "output_type": "stream",
     "text": [
      "1 2 3 4 5 6 7 8 9 10 "
     ]
    }
   ],
   "source": [
    "for x in range(1, 11):\n",
    "    print(x, end=' ')"
   ]
  },
  {
   "cell_type": "code",
   "execution_count": 76,
   "metadata": {},
   "outputs": [
    {
     "name": "stdout",
     "output_type": "stream",
     "text": [
      "John James Jack Johnson Julia Jiri Jyri Jaakko Joonas\n"
     ]
    }
   ],
   "source": [
    "print('John', 'James', 'Jack', 'Johnson', 'Julia', 'Jiri', 'Jyri', 'Jaakko', 'Joonas')"
   ]
  },
  {
   "cell_type": "code",
   "execution_count": 77,
   "metadata": {},
   "outputs": [
    {
     "name": "stdout",
     "output_type": "stream",
     "text": [
      "John, James, Jack, Johnson, Julia, Jiri, Jyri, Jaakko, Joonas\n"
     ]
    }
   ],
   "source": [
    "print('John', 'James', 'Jack', 'Johnson', 'Julia', 'Jiri', 'Jyri', 'Jaakko', 'Joonas', sep=', ')"
   ]
  },
  {
   "cell_type": "code",
   "execution_count": 78,
   "metadata": {},
   "outputs": [
    {
     "name": "stdout",
     "output_type": "stream",
     "text": [
      "Hello Mr. Lahti Tommi!\n"
     ]
    }
   ],
   "source": [
    "#Positional arguments, oikea järjestys.\n",
    "def hello(title, last, first):\n",
    "    print('Hello', title, last, first+'!')\n",
    "\n",
    "hello(\"Mr.\", \"Lahti\", \"Tommi\")"
   ]
  },
  {
   "cell_type": "code",
   "execution_count": 79,
   "metadata": {},
   "outputs": [
    {
     "name": "stdout",
     "output_type": "stream",
     "text": [
      "Hello Lahti Tommi Mr!\n"
     ]
    }
   ],
   "source": [
    "#Positional arguments, väärä järjestys (output on väärin)\n",
    "def hello(title, last, first):\n",
    "    print('Hello', title, last, first+'!')\n",
    "\n",
    "hello(\"Lahti\", \"Tommi\", \"Mr\")"
   ]
  },
  {
   "cell_type": "code",
   "execution_count": 80,
   "metadata": {},
   "outputs": [
    {
     "name": "stdout",
     "output_type": "stream",
     "text": [
      "Hello Mr. Lahti Tommi!\n"
     ]
    }
   ],
   "source": [
    "#Keyword arguments, käyttäjän syöttämällä järjestyksellä ei ole väliä koska järjestys on methodissa päätetty.\n",
    "def hello(title, last, first):\n",
    "    print('Hello', title, last, first+'!')\n",
    "\n",
    "hello(first=\"Tommi\", title=\"Mr.\", last=\"Lahti\")"
   ]
  },
  {
   "cell_type": "code",
   "execution_count": null,
   "metadata": {},
   "outputs": [],
   "source": []
  }
 ],
 "metadata": {
  "kernelspec": {
   "display_name": "Python 3",
   "language": "python",
   "name": "python3"
  },
  "language_info": {
   "codemirror_mode": {
    "name": "ipython",
    "version": 3
   },
   "file_extension": ".py",
   "mimetype": "text/x-python",
   "name": "python",
   "nbconvert_exporter": "python",
   "pygments_lexer": "ipython3",
   "version": "3.11.5"
  }
 },
 "nbformat": 4,
 "nbformat_minor": 2
}
